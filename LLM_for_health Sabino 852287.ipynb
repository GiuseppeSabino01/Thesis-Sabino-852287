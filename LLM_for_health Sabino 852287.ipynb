{
  "cells": [
    {
      "cell_type": "markdown",
      "metadata": {
        "id": "-SIIOiVWGIVd"
      },
      "source": [
        "#**Import Library**"
      ]
    },
    {
      "cell_type": "code",
      "execution_count": null,
      "metadata": {
        "id": "w3icD8dj2ku5"
      },
      "outputs": [],
      "source": [
        "pip install deep_translator"
      ]
    },
    {
      "cell_type": "code",
      "execution_count": null,
      "metadata": {
        "id": "5kCPBRbvE34F"
      },
      "outputs": [],
      "source": [
        "import pandas as pd\n",
        "import matplotlib.pyplot as plt\n",
        "from google.colab import drive\n",
        "from deep_translator import GoogleTranslator\n",
        "import time\n",
        "import numpy as np\n",
        "from transformers import AutoTokenizer, AutoModelForSeq2SeqLM\n",
        "from deep_translator.exceptions import NotValidPayload, TranslationNotFound,RequestError\n",
        "import os\n",
        "import torch\n",
        "from transformers import AutoTokenizer, AutoModel\n",
        "from transformers import AutoTokenizer, AutoModelForMaskedLM\n",
        "from transformers import RobertaTokenizerFast, RobertaModel\n",
        "from transformers import AutoTokenizer, AutoModel\n",
        "from huggingface_hub import login\n",
        "from sklearn.metrics import confusion_matrix\n",
        "from torch.optim import Adam\n",
        "from sklearn.model_selection import train_test_split\n",
        "from sklearn.preprocessing import LabelEncoder\n",
        "from transformers import AutoModelForSequenceClassification, AutoTokenizer\n",
        "from transformers import BertTokenizer, TFBertModel\n",
        "from transformers import T5Tokenizer, T5ForConditionalGeneration\n",
        "from transformers import T5ForConditionalGeneration, T5Tokenizer\n",
        "from transformers import AutoTokenizer, AutoModelForCausalLM\n",
        "import transformers\n",
        "import seaborn as sns\n",
        "from torch.utils.data import DataLoader, Dataset\n",
        "from transformers import AutoTokenizer, AutoModelForSequenceClassification, AdamW"
      ]
    },
    {
      "cell_type": "markdown",
      "metadata": {
        "id": "FrG2fUAdzK3b"
      },
      "source": [
        "#**Function**"
      ]
    },
    {
      "cell_type": "code",
      "execution_count": null,
      "metadata": {
        "id": "mUzsfKsZ0wOY"
      },
      "outputs": [],
      "source": [
        "def translate_text_helsinki(text):\n",
        "    attempt = 0\n",
        "    while attempt < RETRY_LIMIT:\n",
        "        try:\n",
        "            tokenized_text = tokenizer(text, return_tensors=\"pt\", truncation=True, max_length=512)\n",
        "            if tokenized_text.input_ids.size(1) > MAX_TOKEN:\n",
        "                print(f\"Text exceeds maximum length of {MAX_TOKEN} token and will be truncated.\")\n",
        "                text = text[:MAX_LENGTH - 10]\n",
        "\n",
        "\n",
        "            print(\"##############\")\n",
        "            print(text)\n",
        "            outputs = model.generate(input_ids=tokenized_text.input_ids, attention_mask=tokenized_text.attention_mask, num_beams=5, num_return_sequences=1)\n",
        "            translated_text = tokenizer.decode(outputs[0], skip_special_tokens=True)\n",
        "            return translated_text\n",
        "        except (NotValidPayload, TranslationNotFound) as e:\n",
        "            print(f\"An error occurred during translation: {e}\")\n",
        "            return 'Error'\n",
        "        except RequestError as e:\n",
        "            attempt += 1\n",
        "            wait_time = 2 ** attempt\n",
        "            print(f\"Request error: {e}. Retrying {attempt}/{RETRY_LIMIT} after {wait_time} seconds...\")\n",
        "            time.sleep(wait_time)\n",
        "    print(f\"Request failed after {RETRY_LIMIT} attempts. Skipping this text.\")\n",
        "    return 'Request failed'"
      ]
    },
    {
      "cell_type": "code",
      "execution_count": null,
      "metadata": {
        "id": "acvdtySf2iRE"
      },
      "outputs": [],
      "source": [
        "def translate_text(text):\n",
        "    attempt = 0\n",
        "    while attempt < RETRY_LIMIT:\n",
        "        try:\n",
        "            if len(text) > MAX_LENGTH:\n",
        "                print(f\"Text exceeds maximum length of {MAX_LENGTH} characters and will be truncated.\")\n",
        "                text = text[:MAX_LENGTH - 100]\n",
        "            translated_text = translator.translate(text)\n",
        "            return translated_text\n",
        "        except (NotValidPayload, TranslationNotFound) as e:\n",
        "            print(f\"An error occurred during translation: {e}\")\n",
        "            return 'Too long'\n",
        "        except RequestError as e:\n",
        "            attempt += 1\n",
        "            wait_time = 2 ** attempt\n",
        "            print(f\"Request error: {e}. Retrying {attempt}/{RETRY_LIMIT} after {wait_time} seconds...\")\n",
        "            time.sleep(wait_time)\n",
        "    print(f\"Request failed after {RETRY_LIMIT} attempts. Skipping this text.\")\n",
        "    return 'Request failed'"
      ]
    },
    {
      "cell_type": "code",
      "execution_count": null,
      "metadata": {
        "id": "cfhWoDakpZa4"
      },
      "outputs": [],
      "source": [
        "class YourDataset(Dataset):\n",
        "    def __init__(self, texts, labels=None):\n",
        "        self.texts = texts\n",
        "        self.labels = labels\n",
        "\n",
        "    def __len__(self):\n",
        "        return len(self.texts)\n",
        "\n",
        "    def __getitem__(self, idx):\n",
        "        item = {'text': self.texts[idx]}\n",
        "        if self.labels is not None:\n",
        "            item['label'] = self.labels[idx]\n",
        "        return item"
      ]
    },
    {
      "cell_type": "code",
      "execution_count": null,
      "metadata": {
        "id": "nUga2Ax3pizH"
      },
      "outputs": [],
      "source": [
        "def tokenize_batch(texts, has_labels=True):\n",
        "    return tokenizer.batch_encode_plus(\n",
        "        texts,\n",
        "        padding=True,\n",
        "        truncation=True,\n",
        "        return_tensors=\"pt\"\n",
        "    )"
      ]
    },
    {
      "cell_type": "code",
      "execution_count": null,
      "metadata": {
        "id": "4SSkleVx_5Ev"
      },
      "outputs": [],
      "source": [
        "def sensitivity(y_true, y_pred):\n",
        "    cm = confusion_matrix(y_true, y_pred)\n",
        "    tp = cm[1, 1]\n",
        "    fn = cm[1, 0]\n",
        "    return tp / (tp + fn) if (tp + fn) > 0 else 0\n",
        "\n",
        "def specificity(y_true, y_pred):\n",
        "    cm = confusion_matrix(y_true, y_pred)\n",
        "    tn = cm[0, 0]\n",
        "    fp = cm[0, 1]\n",
        "    return tn / (tn + fp) if (tn + fp) > 0 else 0\n",
        "\n",
        "def balanced_accuracy(y_true, y_pred):\n",
        "    sens = sensitivity(y_true, y_pred)\n",
        "    spec = specificity(y_true, y_pred)\n",
        "    return (sens + spec) / 2\n"
      ]
    },
    {
      "cell_type": "code",
      "execution_count": null,
      "metadata": {
        "id": "EDu_1WR4VzNE"
      },
      "outputs": [],
      "source": [
        "import numpy as np\n",
        "from sklearn.metrics import confusion_matrix\n",
        "\n",
        "def sensitivity_severity(cm, class_index):\n",
        "    tp = cm[class_index, class_index]\n",
        "    fn = np.sum(cm[class_index, :]) - tp\n",
        "    return tp / (tp + fn) if (tp + fn) > 0 else 0\n",
        "\n",
        "def specificity_severity(cm, class_index):\n",
        "    tn = np.sum(cm) - np.sum(cm[class_index, :]) - np.sum(cm[:, class_index]) + cm[class_index, class_index]\n",
        "    fp = np.sum(cm[:, class_index]) - cm[class_index, class_index]\n",
        "    return tn / (tn + fp) if (tn + fp) > 0 else 0\n",
        "\n",
        "def balanced_accuracy_severity(y_true, y_pred):\n",
        "    y_true = np.asarray(y_true)\n",
        "    y_pred = np.asarray(y_pred)\n",
        "\n",
        "    y_true = y_true.astype(int)\n",
        "    y_pred = y_pred.astype(int)\n",
        "\n",
        "    if y_true.ndim != 1 or y_pred.ndim != 1:\n",
        "        raise ValueError(\"y_true e y_pred devono essere array monodimensionali.\")\n",
        "\n",
        "    num_classes = 4\n",
        "    if not np.all((0 <= y_true) & (y_true < num_classes)):\n",
        "        raise ValueError(\"y_true contiene valori fuori dal range atteso.\")\n",
        "    if not np.all((0 <= y_pred) & (y_pred < num_classes)):\n",
        "        raise ValueError(\"y_pred contiene valori fuori dal range atteso.\")\n",
        "\n",
        "    cm = confusion_matrix(y_true, y_pred)\n",
        "    sens_list = []\n",
        "    spec_list = []\n",
        "    for i in range(num_classes):\n",
        "        sens_list.append(sensitivity_severity(cm, i))\n",
        "        spec_list.append(specificity_severity(cm, i))\n",
        "\n",
        "    sens = np.mean(sens_list)\n",
        "    spec = np.mean(spec_list)\n",
        "    return (sens + spec) / 2\n"
      ]
    },
    {
      "cell_type": "code",
      "execution_count": null,
      "metadata": {
        "id": "_z9Nfmeg0kjU"
      },
      "outputs": [],
      "source": [
        "def training(dataset):\n",
        "    column = dataset.columns[0]\n",
        "    label_encoder = LabelEncoder()\n",
        "    dataset['label'] = label_encoder.fit_transform(dataset['label'])\n",
        "    train_texts, val_texts, train_labels, val_labels = train_test_split(dataset[column], dataset['label'], test_size=0.2, random_state=42)\n",
        "    train_dataset = YourDataset(train_texts.tolist(), train_labels.tolist())\n",
        "    val_dataset = YourDataset(val_texts.tolist(), val_labels.tolist())\n",
        "\n",
        "    num_epochs = 8\n",
        "    batch_size = 1\n",
        "    optimizer = AdamW(model.parameters(), lr=3e-5)\n",
        "\n",
        "    device = torch.device(\"cuda\" if torch.cuda.is_available() else \"cpu\")\n",
        "    model.to(device)\n",
        "\n",
        "    best_balanced_accuracy = 0.0\n",
        "\n",
        "    for epoch in range(num_epochs):\n",
        "        print('############################')\n",
        "        print(f\"Epoch {epoch+1}/{num_epochs}\")\n",
        "        model.train()\n",
        "        for i, batch in enumerate(DataLoader(train_dataset, batch_size=batch_size, shuffle=True)):\n",
        "            print('************************************')\n",
        "            print(f\"Batch {i+1}\")\n",
        "\n",
        "\n",
        "            texts = batch['text']\n",
        "            inputs = tokenize_batch(texts)\n",
        "\n",
        "            inputs = {k: v.to(device) for k, v in inputs.items()}\n",
        "            labels = batch['label'].to(device)\n",
        "\n",
        "            optimizer.zero_grad()\n",
        "            outputs = model(**inputs, labels=labels)\n",
        "            loss = outputs.loss\n",
        "            loss.backward()\n",
        "            optimizer.step()\n",
        "\n",
        "        model.eval()\n",
        "        total_correct = 0\n",
        "        total_samples = 0\n",
        "        all_labels = []\n",
        "        all_predictions = []\n",
        "        with torch.no_grad():\n",
        "            for batch in DataLoader(val_dataset, batch_size=batch_size):\n",
        "                texts = batch['text']\n",
        "                inputs = tokenize_batch(texts)\n",
        "                inputs = {k: v.to(device) for k, v in inputs.items()}\n",
        "                labels = batch['label'].to(device)\n",
        "\n",
        "                outputs = model(**inputs)\n",
        "                predictions = torch.argmax(outputs.logits, dim=1)\n",
        "                total_correct += (predictions == labels).sum().item()\n",
        "                total_samples += len(labels)\n",
        "                all_labels.extend(labels.cpu().numpy())\n",
        "                all_predictions.extend(predictions.cpu().numpy())\n",
        "                print('++++++++++++++++++++++++++++++++++++++++++++++')\n",
        "                print(predictions)\n",
        "\n",
        "        accuracy = total_correct / total_samples\n",
        "        b_accuracy = balanced_accuracy(all_labels, all_predictions)\n",
        "        print(f\"Epoch {epoch+1}, Validation Accuracy: {accuracy:.4f}, Balanced Accuracy: {b_accuracy:.4f}\")\n",
        "\n",
        "        if b_accuracy > best_balanced_accuracy:\n",
        "            best_balanced_accuracy = b_accuracy\n",
        "            torch.save(model.state_dict(), 'best_model_weights.pth')\n",
        "            print(f\"New best model saved with balanced accuracy: {best_balanced_accuracy:.4f}\")\n",
        "    model.load_state_dict(torch.load('best_model_weights.pth'))\n"
      ]
    },
    {
      "cell_type": "code",
      "execution_count": null,
      "metadata": {
        "id": "34PeP2ExpTWh"
      },
      "outputs": [],
      "source": [
        "def translate_label(dataset):\n",
        "  dataset['label'][dataset['label'] == 'minimum'] = 0\n",
        "  dataset['label'][dataset['label'] == 'moderate'] = 2\n",
        "  dataset['label'][dataset['label'] == 'mild'] = 1\n",
        "  dataset['label'][dataset['label'] == 'severe'] = 3\n",
        "  dataset['predictions'][dataset['predictions'] == 'minimum'] = 0\n",
        "  dataset['predictions'][dataset['predictions'] == 'moderate'] = 2\n",
        "  dataset['predictions'][dataset['predictions'] == 'mild'] = 1\n",
        "  dataset['predictions'][dataset['predictions'] == 'severe'] = 3\n",
        "\n"
      ]
    },
    {
      "cell_type": "code",
      "execution_count": null,
      "metadata": {
        "id": "kyNTG4ay1vSQ"
      },
      "outputs": [],
      "source": [
        "def testing(dataset, dataset_training):\n",
        "    column = dataset.columns[0]\n",
        "\n",
        "    device = torch.device(\"cuda\" if torch.cuda.is_available() else \"cpu\")\n",
        "    model.to(device)\n",
        "    model.eval()\n",
        "\n",
        "    test_texts = dataset[column].tolist()\n",
        "    test_dataset = YourDataset(test_texts)\n",
        "    test_dataloader = DataLoader(test_dataset, batch_size=8, shuffle=False)\n",
        "\n",
        "    predictions = []\n",
        "    with torch.no_grad():\n",
        "        for batch in test_dataloader:\n",
        "\n",
        "\n",
        "            texts = batch['text']\n",
        "            if isinstance(texts, list):\n",
        "                if all(isinstance(text, str) for text in texts):\n",
        "                    inputs = tokenize_batch(texts, has_labels=False)\n",
        "                    inputs = {k: v.to(device) for k, v in inputs.items()}\n",
        "\n",
        "                    outputs = model(**inputs)\n",
        "                    batch_predictions = torch.argmax(outputs.logits, dim=1).cpu().numpy()\n",
        "                    predictions.extend(batch_predictions)\n",
        "                else:\n",
        "                    print(\"batch['text'] contiene elementi non di tipo stringa.\")\n",
        "                    if all(isinstance(text, list) for text in texts):\n",
        "                        texts = [\" \".join(sublist) for sublist in texts]\n",
        "                        inputs = tokenize_batch(texts, has_labels=False)\n",
        "                        inputs = {k: v.to(device) for k, v in inputs.items()}\n",
        "\n",
        "                        outputs = model(**inputs)\n",
        "                        batch_predictions = torch.argmax(outputs.logits, dim=1).cpu().numpy()\n",
        "                        predictions.extend(batch_predictions)\n",
        "                    else:\n",
        "                        raise ValueError(\"batch['text'] contiene elementi di tipo sconosciuto.\")\n",
        "            else:\n",
        "                raise ValueError(\"batch['text'] non è una lista.\")\n",
        "\n",
        "    dataset['predictions'] = predictions\n",
        "    print(dataset)\n",
        "\n",
        "    if 'label' in dataset.columns:\n",
        "        all_labels = dataset['label'].tolist()\n",
        "        all_predictions = dataset['predictions'].tolist()\n",
        "        bal_acc = balanced_accuracy(all_labels, all_predictions)\n",
        "        print(f\"Balanced Accuracy: {bal_acc:.4f}\")\n",
        "    else:\n",
        "        print(\"No labels provided, cannot calculate balanced accuracy.\")\n",
        "        bal_acc = None\n",
        "\n",
        "    return bal_acc\n"
      ]
    },
    {
      "cell_type": "code",
      "source": [
        "def tokenize_batch_qwen(batch, has_labels=True):\n",
        "    texts = batch['text']\n",
        "    inputs = tokenizer.batch_encode_plus(\n",
        "        texts,\n",
        "        padding=True,\n",
        "        truncation=True,\n",
        "        return_tensors=\"pt\"\n",
        "    )\n",
        "    if has_labels:\n",
        "        labels = torch.tensor(batch['label'])\n",
        "        return inputs, labels\n",
        "    return inputs\n",
        "\n",
        "def sensitivity_qwen(y_true, y_pred):\n",
        "    cm = confusion_matrix(y_true, y_pred)\n",
        "    if cm.shape[0] == 1:\n",
        "        return 1.0 if y_true[0] == 1 else 0.0\n",
        "    tp = cm[1, 1]\n",
        "    fn = cm[1, 0]\n",
        "    return tp / (tp + fn) if (tp + fn) > 0 else 0\n",
        "\n",
        "def specificity_qwen(y_true, y_pred):\n",
        "    cm = confusion_matrix(y_true, y_pred)\n",
        "    if cm.shape[0] == 1:\n",
        "        return 1.0 if y_true[0] == 0 else 0.0\n",
        "    tn = cm[0, 0]\n",
        "    fp = cm[0, 1]\n",
        "    return tn / (tn + fp) if (tn + fp) > 0 else 0\n",
        "\n",
        "def balanced_accuracy_qwen(y_true, y_pred):\n",
        "    sens = sensitivity_qwen(y_true, y_pred)\n",
        "    spec = specificity_qwen(y_true, y_pred)\n",
        "    return (sens + spec) / 2"
      ],
      "metadata": {
        "id": "fnaSeXGNZ01H"
      },
      "execution_count": null,
      "outputs": []
    },
    {
      "cell_type": "code",
      "source": [
        "def training_qwen(dataset):\n",
        "    column = dataset.columns[0]\n",
        "    label_encoder = LabelEncoder()\n",
        "    dataset['label'] = label_encoder.fit_transform(dataset['label'])\n",
        "    train_texts, val_texts, train_labels, val_labels = train_test_split(dataset[column], dataset['label'], test_size=0.2, random_state=42)\n",
        "    train_dataset = YourDataset(train_texts.tolist(), train_labels.tolist())\n",
        "    val_dataset = YourDataset(val_texts.tolist(), val_labels.tolist())\n",
        "\n",
        "    num_epochs = 8\n",
        "    batch_size = 1\n",
        "    optimizer = AdamW(model.parameters(), lr=3e-5)\n",
        "\n",
        "    device = torch.device(\"cuda\" if torch.cuda.is_available() else \"cpu\")\n",
        "    model.to(device)\n",
        "\n",
        "    best_balanced_accuracy = 0.0\n",
        "\n",
        "    for epoch in range(num_epochs):\n",
        "        print('############################')\n",
        "        print(f\"Epoch {epoch+1}/{num_epochs}\")\n",
        "        model.train()\n",
        "        for i, batch in enumerate(DataLoader(train_dataset, batch_size=batch_size, shuffle=True)):\n",
        "            print('************************************')\n",
        "            print(f\"Batch {i+1}\")\n",
        "            print(batch)\n",
        "            inputs, labels = tokenize_batch_qwen(batch)\n",
        "\n",
        "            inputs = {k: v.to(device) for k, v in inputs.items()}\n",
        "            labels = labels.to(device)\n",
        "\n",
        "            optimizer.zero_grad()\n",
        "            outputs = model(**inputs, labels=labels)\n",
        "            loss = outputs.loss\n",
        "            loss.backward()\n",
        "            optimizer.step()\n",
        "\n",
        "        model.eval()\n",
        "        total_correct = 0\n",
        "        total_samples = 0\n",
        "        all_labels = []\n",
        "        all_predictions = []\n",
        "        with torch.no_grad():\n",
        "            for batch in DataLoader(val_dataset, batch_size=batch_size):\n",
        "                inputs, labels = tokenize_batch_qwen(batch)\n",
        "                inputs = {k: v.to(device) for k, v in inputs.items()}\n",
        "                labels = labels.to(device)\n",
        "\n",
        "                outputs = model(**inputs)\n",
        "                predictions = torch.argmax(outputs.logits, dim=1)\n",
        "                total_correct += (predictions == labels).sum().item()\n",
        "                total_samples += len(labels)\n",
        "                all_labels.extend(labels.cpu().numpy())\n",
        "                all_predictions.extend(predictions.cpu().numpy())\n",
        "                print('++++++++++++++++++++++++++++++++++++++++++++++')\n",
        "                print(predictions)\n",
        "\n",
        "        accuracy = total_correct / total_samples\n",
        "        b_accuracy = balanced_accuracy(all_labels, all_predictions)\n",
        "        print(f\"Epoch {epoch+1}, Validation Accuracy: {accuracy:.4f}, Balanced Accuracy: {b_accuracy:.4f}\")\n",
        "\n",
        "        if b_accuracy > best_balanced_accuracy:\n",
        "            best_balanced_accuracy = b_accuracy\n",
        "            torch.save(model.state_dict(), 'best_model_weights.pth')\n",
        "            print(f\"New best model saved with balanced accuracy: {best_balanced_accuracy:.4f}\")\n",
        "    model.load_state_dict(torch.load('best_model_weights.pth'))"
      ],
      "metadata": {
        "id": "P35CeifMZ59w"
      },
      "execution_count": null,
      "outputs": []
    },
    {
      "cell_type": "code",
      "source": [
        "def testing_qwen(dataset, dataset_training):\n",
        "    column = dataset.columns[0]\n",
        "\n",
        "    device = torch.device(\"cuda\" if torch.cuda.is_available() else \"cpu\")\n",
        "    model.to(device)\n",
        "    model.eval()\n",
        "\n",
        "    test_texts = dataset[column].tolist()\n",
        "    test_dataset = YourDataset(test_texts)\n",
        "    test_dataloader = DataLoader(test_dataset, batch_size=1, shuffle=False)  # Impostare batch_size a 1\n",
        "\n",
        "    predictions = []\n",
        "    with torch.no_grad():\n",
        "        for batch in test_dataloader:\n",
        "            inputs = tokenize_batch_qwen(batch, has_labels=False)\n",
        "            inputs = {k: v.to(device) for k, v in inputs.items()}\n",
        "\n",
        "            outputs = model(**inputs)\n",
        "            batch_predictions = torch.argmax(outputs.logits, dim=1).cpu().numpy()\n",
        "            predictions.extend(batch_predictions)\n",
        "\n",
        "    dataset['predictions'] = predictions\n",
        "    print(dataset)\n",
        "\n",
        "    all_labels = dataset['label']\n",
        "    all_predictions = dataset['predictions']\n",
        "\n",
        "    bal_acc = balanced_accuracy(all_labels, all_predictions)\n",
        "    print(f\"Balanced Accuracy: {bal_acc:.4f}\")\n",
        "    return bal_acc"
      ],
      "metadata": {
        "id": "AtmiLSatZ9mA"
      },
      "execution_count": null,
      "outputs": []
    },
    {
      "cell_type": "markdown",
      "metadata": {
        "id": "gkZM9YnmGNDR"
      },
      "source": [
        "#**Import Data**"
      ]
    },
    {
      "cell_type": "code",
      "execution_count": null,
      "metadata": {
        "colab": {
          "base_uri": "https://localhost:8080/"
        },
        "id": "luVbb6i-9YnQ",
        "outputId": "0c253842-ad1f-4731-d099-bafa7c9df583"
      },
      "outputs": [
        {
          "output_type": "stream",
          "name": "stdout",
          "text": [
            "Drive already mounted at /content/drive; to attempt to forcibly remount, call drive.mount(\"/content/drive\", force_remount=True).\n"
          ]
        }
      ],
      "source": [
        "drive.mount('/content/drive')"
      ]
    },
    {
      "cell_type": "code",
      "execution_count": null,
      "metadata": {
        "id": "EGiWq6LoHgdN"
      },
      "outputs": [],
      "source": [
        "drive_path = '/content/drive/MyDrive/Thesis/Dataset/'\n",
        "dreaddit_path= drive_path +'Dreaddit/'\n",
        "dep_severity_path= drive_path +'DepSeverity/'\n",
        "sdcnl_path= drive_path +'SDCNL/'"
      ]
    },
    {
      "cell_type": "code",
      "execution_count": null,
      "metadata": {
        "id": "MOTrN-EUBBQB"
      },
      "outputs": [],
      "source": [
        "sdcnl_test_tradotto = pd.read_excel(sdcnl_path+'sdcnl_test_tradotto.xlsx')\n",
        "sdcnl_test_tradotto.drop(columns=['Unnamed: 0'], inplace=True)\n",
        "sdcnl_test_tradotto.rename(columns={'is_suicide': 'label'}, inplace=True)\n",
        "sdcnl_train_tradotto = pd.read_excel(sdcnl_path+'sdcnl_train_tradotto.xlsx')\n",
        "sdcnl_train_tradotto.drop(columns=['Unnamed: 0'], inplace=True)\n",
        "sdcnl_train_tradotto = sdcnl_train_tradotto.dropna()\n",
        "sdcnl_train_tradotto.rename(columns={'is_suicide': 'label'}, inplace=True)\n",
        "dreaddit_train_tradotto = pd.read_excel(dreaddit_path+'dreaddit_train_tradotto.xlsx')\n",
        "dreaddit_train_tradotto.drop(columns=['Unnamed: 0'], inplace=True)\n",
        "dreaddit_test_tradotto = pd.read_excel(dreaddit_path+'dreaddit_test_tradotto.xlsx')\n",
        "dreaddit_test_tradotto.drop(columns=['Unnamed: 0'], inplace=True)\n",
        "dep_severity_tradotto = pd.read_excel(dep_severity_path+'dep_severity_tradotto.xlsx')\n",
        "dep_severity_tradotto.drop(columns=['Unnamed: 0'], inplace=True)\n",
        "\n",
        "#Per elaborazione task 2\n",
        "# dep_severity_tradotto['label'][dep_severity_tradotto['label'] == 'minimum'] = 0\n",
        "# dep_severity_tradotto['label'][dep_severity_tradotto['label'] == 'moderate'] = 1\n",
        "# dep_severity_tradotto['label'][dep_severity_tradotto['label'] == 'mild'] = 1\n",
        "# dep_severity_tradotto['label'][dep_severity_tradotto['label'] == 'severe'] = 1\n",
        "\n",
        "#Per elaborazione task multiclass\n",
        "dep_severity_tradotto['label'][dep_severity_tradotto['label'] == 'minimum'] = 0\n",
        "dep_severity_tradotto['label'][dep_severity_tradotto['label'] == 'mild'] = 1\n",
        "dep_severity_tradotto['label'][dep_severity_tradotto['label'] == 'moderate'] = 2\n",
        "dep_severity_tradotto['label'][dep_severity_tradotto['label'] == 'severe'] = 3"
      ]
    },
    {
      "cell_type": "code",
      "execution_count": null,
      "metadata": {
        "id": "Ff_QPMb55uNa"
      },
      "outputs": [],
      "source": [
        "dep_severity_train_tradotto, dep_severity_test_tradotto = train_test_split(dep_severity_tradotto, test_size=0.2, stratify=dep_severity_tradotto['label'], random_state=42)"
      ]
    },
    {
      "cell_type": "code",
      "execution_count": null,
      "metadata": {
        "id": "-dIe3wnKlET1"
      },
      "outputs": [],
      "source": [
        "sdcnl_train_original = sdcnl_train_tradotto[['selftext', 'label']]\n",
        "sdcnl_train_google = sdcnl_train_tradotto[['text tradotto', 'label']]\n",
        "sdcnl_train_helsinki = sdcnl_train_tradotto[['text_tradotto_helsinki', 'label']]\n",
        "\n",
        "sdcnl_test_original = sdcnl_test_tradotto[['selftext', 'label']]\n",
        "sdcnl_test_google = sdcnl_test_tradotto[['text tradotto', 'label']]\n",
        "sdcnl_test_helsinki = sdcnl_test_tradotto[['text_tradotto_helsinki', 'label']]\n",
        "\n",
        "\n",
        "dreaddit_train_original = dreaddit_train_tradotto[['text', 'label']]\n",
        "dreaddit_train_google = dreaddit_train_tradotto[['text tradotto', 'label']]\n",
        "dreaddit_train_helsinki = dreaddit_train_tradotto[['text_tradotto_helsinki', 'label']]\n",
        "\n",
        "dreaddit_test_original = dreaddit_test_tradotto[['text', 'label']]\n",
        "dreaddit_test_google = dreaddit_test_tradotto[['text tradotto', 'label']]\n",
        "dreaddit_test_helsinki = dreaddit_test_tradotto[['text_tradotto_helsinki', 'label']]\n",
        "\n",
        "\n",
        "dep_severity_train_original = dep_severity_train_tradotto[['text', 'label']]\n",
        "dep_severity_train_google = dep_severity_train_tradotto[['text tradotto', 'label']]\n",
        "dep_severity_train_helsinki = dep_severity_train_tradotto[['text_tradotto_helsinki', 'label']]\n",
        "\n",
        "dep_severity_test_original = dep_severity_test_tradotto[['text', 'label']]\n",
        "dep_severity_test_google = dep_severity_test_tradotto[['text tradotto', 'label']]\n",
        "dep_severity_test_helsinki = dep_severity_test_tradotto[['text_tradotto_helsinki', 'label']]"
      ]
    },
    {
      "cell_type": "markdown",
      "metadata": {
        "id": "SkzyVqhKIX74"
      },
      "source": [
        "#**Dreaddit**"
      ]
    },
    {
      "cell_type": "markdown",
      "metadata": {
        "id": "lz9eD4dToH1x"
      },
      "source": [
        "Il dataset contiene dei Bias, righe in cui i ricercatori chiedono di partecipare al survey. Per evitare che questi commenti interferiscano con l'allenamento e il test del modello, sarà effettuata una fase di preprocessing in cui saranno filtrati e rimossi tutti i commenti non necessari."
      ]
    },
    {
      "cell_type": "code",
      "execution_count": null,
      "metadata": {
        "id": "DE-_qNDkGUGI"
      },
      "outputs": [],
      "source": [
        "dreaddit_test = pd.read_csv(dreaddit_path+'dreaddit-test.csv')\n",
        "dreaddit_train = pd.read_csv(dreaddit_path+'dreaddit-train.csv')\n",
        "combined_df = pd.concat([dreaddit_test, dreaddit_train])\n",
        "\n",
        "duplicates = combined_df[combined_df['text'].duplicated()]\n",
        "\n",
        "search_strings = [\"7. This study will include only participants\", \"#NAME?\", \"__Who I am__:\"]\n",
        "regex_pattern = '|'.join(search_strings)\n",
        "matching_rows = combined_df[combined_df['text'].str.contains(regex_pattern)]\n",
        "duplicates = pd.concat([duplicates, matching_rows], ignore_index=True)\n",
        "id_duplicates = duplicates['id']\n",
        "\n",
        "dreaddit_train = dreaddit_train[~dreaddit_train['id'].isin(id_duplicates)]\n",
        "dreaddit_test = dreaddit_test[~dreaddit_test['id'].isin(id_duplicates)]\n",
        "\n",
        "print(\"test:\", len(dreaddit_test))\n",
        "print(\"train:\", len(dreaddit_train))"
      ]
    },
    {
      "cell_type": "code",
      "execution_count": null,
      "metadata": {
        "id": "Pti227EdHhaG",
        "colab": {
          "base_uri": "https://localhost:8080/"
        },
        "outputId": "3e71e4bc-3fe6-4519-a018-5d2865d7d497"
      },
      "outputs": [
        {
          "output_type": "display_data",
          "data": {
            "text/plain": [
              "<Figure size 800x600 with 1 Axes>"
            ],
            "image/png": "[encoded data removed]"
          },
          "metadata": {}
        }
      ],
      "source": [
        "colors=['#fc8d62','#66c2a5']\n",
        "label_counts = dreaddit_train['label'].value_counts()\n",
        "plt.figure(figsize=(8, 6))\n",
        "label_counts.plot(kind='bar', color = colors)\n",
        "plt.title('Distribution of Dreaddit label')\n",
        "plt.xlabel('Label')\n",
        "plt.ylabel('Count')\n",
        "plt.show()\n"
      ]
    },
    {
      "cell_type": "code",
      "execution_count": null,
      "metadata": {
        "id": "bzt5wx4LIDSs",
        "colab": {
          "base_uri": "https://localhost:8080/"
        },
        "outputId": "12f81adb-f911-440b-ead8-d501a384a4fd"
      },
      "outputs": [
        {
          "output_type": "stream",
          "name": "stderr",
          "text": [
            "<ipython-input-20-c2e9e23160f4>:6: FutureWarning: \n",
            "\n",
            "The `ci` parameter is deprecated. Use `errorbar=None` for the same effect.\n",
            "\n",
            "  sns.barplot(x='label', y='post_length', data=dreaddit_train, ci=None, palette=colors)\n",
            "<ipython-input-20-c2e9e23160f4>:6: FutureWarning: \n",
            "\n",
            "Passing `palette` without assigning `hue` is deprecated and will be removed in v0.14.0. Assign the `x` variable to `hue` and set `legend=False` for the same effect.\n",
            "\n",
            "  sns.barplot(x='label', y='post_length', data=dreaddit_train, ci=None, palette=colors)\n"
          ]
        },
        {
          "output_type": "display_data",
          "data": {
            "text/plain": [
              "<Figure size 1400x1000 with 2 Axes>"
            ],
            "image/png": "[encoded data removed]"
          },
          "metadata": {}
        }
      ],
      "source": [
        "dreaddit_train['post_length'] = dreaddit_train['text'].apply(lambda x: len(x.split()))\n",
        "colors=['#66c2a5','#fc8d62']\n",
        "plt.figure(figsize=(14, 10))\n",
        "\n",
        "plt.subplot(2, 1, 1)\n",
        "sns.barplot(x='label', y='post_length', data=dreaddit_train, ci=None, palette=colors)\n",
        "plt.title('Average length of posts by label')\n",
        "plt.xlabel('Label')\n",
        "plt.ylabel('Average post length (number of words)')\n",
        "\n",
        "plt.subplot(2, 1, 2)\n",
        "sns.kdeplot(data=dreaddit_train, x='post_length', hue='label', fill=True, common_norm=False, palette=colors)\n",
        "plt.title('Density of post length by label')\n",
        "plt.xlabel('Length of the post (number of words)')\n",
        "plt.ylabel('Density')\n",
        "\n",
        "plt.tight_layout()\n",
        "plt.show()\n"
      ]
    },
    {
      "cell_type": "markdown",
      "metadata": {
        "id": "LX9Qzx6KGumw"
      },
      "source": [
        "#**DepSeverity**"
      ]
    },
    {
      "cell_type": "code",
      "execution_count": null,
      "metadata": {
        "id": "tai8tNA9GybN"
      },
      "outputs": [],
      "source": [
        "dep_severity = pd.read_csv(dep_severity_path+'Reddit_depression_dataset.csv')\n",
        "duplicates = dep_severity[dep_severity['text'].duplicated()]\n",
        "search_strings = [\"7. This study will include only participants\", \"#NAME?\", \"__Who I am__:\"]\n",
        "regex_pattern = '|'.join(search_strings)\n",
        "matching_rows = dep_severity[dep_severity['text'].str.contains(regex_pattern)]\n",
        "duplicates = pd.concat([duplicates, matching_rows])\n",
        "\n",
        "dep_severity = dep_severity.drop(duplicates.index, errors='ignore')\n",
        "print(\"lenght:\", len(dep_severity))\n",
        "dep_severity"
      ]
    },
    {
      "cell_type": "code",
      "execution_count": null,
      "metadata": {
        "id": "SaJ7mlJkK8dE",
        "colab": {
          "base_uri": "https://localhost:8080/"
        },
        "outputId": "5ef29534-4a6c-4e4e-977b-5a243fa6f1fd"
      },
      "outputs": [
        {
          "output_type": "display_data",
          "data": {
            "text/plain": [
              "<Figure size 800x600 with 1 Axes>"
            ],
            "image/png": "[encoded data removed]"
          },
          "metadata": {}
        }
      ],
      "source": [
        "label_counts = dep_severity['label'].value_counts()\n",
        "\n",
        "plt.figure(figsize=(8, 6))\n",
        "colors =['#a1d99b','#ffeda0', '#fd8d3c', '#f03b20']\n",
        "label_counts.plot(kind='bar', color=colors)\n",
        "plt.title('Distribution of DepSeverity label')\n",
        "plt.xlabel('Label')\n",
        "plt.ylabel('Count')\n",
        "plt.show()\n"
      ]
    },
    {
      "cell_type": "code",
      "execution_count": null,
      "metadata": {
        "id": "WzJHYTaLK8dF",
        "colab": {
          "base_uri": "https://localhost:8080/"
        },
        "outputId": "e87ed4f2-e076-4d86-d619-23bd171f3d65"
      },
      "outputs": [
        {
          "output_type": "stream",
          "name": "stderr",
          "text": [
            "<ipython-input-23-aa6d298b1e15>:7: FutureWarning: \n",
            "\n",
            "The `ci` parameter is deprecated. Use `errorbar=None` for the same effect.\n",
            "\n",
            "  sns.barplot(x='label', y='post_length', data=dep_severity, ci=None, palette=palette)\n",
            "<ipython-input-23-aa6d298b1e15>:7: FutureWarning: \n",
            "\n",
            "Passing `palette` without assigning `hue` is deprecated and will be removed in v0.14.0. Assign the `x` variable to `hue` and set `legend=False` for the same effect.\n",
            "\n",
            "  sns.barplot(x='label', y='post_length', data=dep_severity, ci=None, palette=palette)\n"
          ]
        },
        {
          "output_type": "display_data",
          "data": {
            "text/plain": [
              "<Figure size 1400x1000 with 2 Axes>"
            ],
            "image/png": "[encoded data removed]"
          },
          "metadata": {}
        }
      ],
      "source": [
        "palette = ['#ffeda0','#a1d99b', '#fd8d3c', '#f03b20']\n",
        "colors=['#66c2a5','#fc8d62']\n",
        "plt.figure(figsize=(14, 10))\n",
        "dep_severity['post_length'] = dep_severity['text'].apply(lambda x: len(x.split()))\n",
        "\n",
        "plt.subplot(2, 1, 1)\n",
        "sns.barplot(x='label', y='post_length', data=dep_severity, ci=None, palette=palette)\n",
        "plt.title('Average length of posts by label')\n",
        "plt.xlabel('Label')\n",
        "plt.ylabel('Average post length (number of words)')\n",
        "plt.subplot(2, 1, 2)\n",
        "sns.kdeplot(data=dep_severity, x='post_length', hue='label', fill=True, common_norm=False, palette=palette)\n",
        "plt.title('Density of post length by label')\n",
        "plt.xlabel('Length of the post (number of words))')\n",
        "plt.ylabel('Density')\n",
        "\n",
        "plt.tight_layout()\n",
        "plt.show()"
      ]
    },
    {
      "cell_type": "markdown",
      "metadata": {
        "id": "eV3fQlCrGsYE"
      },
      "source": [
        "#**SDCNL**"
      ]
    },
    {
      "cell_type": "code",
      "execution_count": null,
      "metadata": {
        "id": "FiQ47EboHC-S"
      },
      "outputs": [],
      "source": [
        "sdcnl_test = pd.read_csv(sdcnl_path+'testing-set.csv')\n",
        "sdcnl_test.loc[sdcnl_test['selftext'] == 'emptypost', 'selftext'] = sdcnl_test.loc[sdcnl_test['selftext'] == 'emptypost', 'title']\n",
        "sdcnl_train = pd.read_csv(sdcnl_path+'training-set.csv')\n",
        "sdcnl_train.loc[sdcnl_train['selftext'] == 'emptypost', 'selftext'] = sdcnl_train.loc[sdcnl_train['selftext'] == 'emptypost', 'title']\n",
        "combined_df = pd.concat([sdcnl_test, sdcnl_train])\n",
        "duplicates = combined_df[combined_df['selftext'].duplicated()]\n",
        "sdcnl_train = sdcnl_train.drop(duplicates.index, errors='ignore')\n",
        "\n",
        "print(\"train:\",len(sdcnl_train))\n",
        "print(\"test:\",len(sdcnl_test))\n",
        "sdcnl_train"
      ]
    },
    {
      "cell_type": "code",
      "execution_count": null,
      "metadata": {
        "id": "e5QXD9seL-VP",
        "colab": {
          "base_uri": "https://localhost:8080/"
        },
        "outputId": "bfc5e29a-8dce-4d09-e7fc-165fa6ebfad5"
      },
      "outputs": [
        {
          "output_type": "display_data",
          "data": {
            "text/plain": [
              "<Figure size 1000x600 with 1 Axes>"
            ],
            "image/png": "[encoded data removed]"
          },
          "metadata": {}
        }
      ],
      "source": [
        "label_counts = sdcnl_train['is_suicide'].value_counts()\n",
        "colors=['#fc8d62','#66c2a5']\n",
        "plt.figure(figsize=(10, 6))\n",
        "label_counts.plot(kind='bar', color=colors)\n",
        "plt.title('Distribution of SDCNL label')\n",
        "plt.xlabel('Label')\n",
        "plt.ylabel('Count')\n",
        "plt.show()\n"
      ]
    },
    {
      "cell_type": "code",
      "execution_count": null,
      "metadata": {
        "id": "L04mh3qKL-VQ",
        "colab": {
          "base_uri": "https://localhost:8080/"
        },
        "outputId": "31ccdc4e-1c3d-4002-ca4e-5d965462096d"
      },
      "outputs": [
        {
          "output_type": "stream",
          "name": "stderr",
          "text": [
            "<ipython-input-26-0cdd7d920ce5>:6: FutureWarning: \n",
            "\n",
            "The `ci` parameter is deprecated. Use `errorbar=None` for the same effect.\n",
            "\n",
            "  sns.barplot(x='is_suicide', y='post_length', data=sdcnl_train, ci=None, palette=colors)\n",
            "<ipython-input-26-0cdd7d920ce5>:6: FutureWarning: \n",
            "\n",
            "Passing `palette` without assigning `hue` is deprecated and will be removed in v0.14.0. Assign the `x` variable to `hue` and set `legend=False` for the same effect.\n",
            "\n",
            "  sns.barplot(x='is_suicide', y='post_length', data=sdcnl_train, ci=None, palette=colors)\n"
          ]
        },
        {
          "output_type": "display_data",
          "data": {
            "text/plain": [
              "<Figure size 1400x1000 with 2 Axes>"
            ],
            "image/png": "[encoded data removed]"
          },
          "metadata": {}
        }
      ],
      "source": [
        "sdcnl_train['post_length'] = sdcnl_train['selftext'].apply(lambda x: len(x.split()))\n",
        "\n",
        "plt.figure(figsize=(14, 10))\n",
        "colors=['#66c2a5','#fc8d62']\n",
        "plt.subplot(2, 1, 1)\n",
        "sns.barplot(x='is_suicide', y='post_length', data=sdcnl_train, ci=None, palette=colors)\n",
        "plt.title('Average length of posts by label')\n",
        "plt.xlabel('Label')\n",
        "plt.ylabel('Average post length (number of words)')\n",
        "\n",
        "plt.subplot(2, 1, 2)\n",
        "sns.kdeplot(data=sdcnl_train, x='post_length', hue='is_suicide', fill=True, common_norm=False, palette=colors)\n",
        "plt.title('Density of post length by label')\n",
        "plt.xlabel('Length of the post (number of words)')\n",
        "plt.ylabel('Density')\n",
        "\n",
        "plt.tight_layout()\n",
        "plt.show()\n"
      ]
    },
    {
      "cell_type": "markdown",
      "metadata": {
        "id": "C9N67olTBl7c"
      },
      "source": [
        "#**Combine DF**"
      ]
    },
    {
      "cell_type": "code",
      "execution_count": null,
      "metadata": {
        "id": "QY3OGQL9BlRz"
      },
      "outputs": [],
      "source": [
        "#Unito sdcnl = 1 perche la label indica se il poster si vuole suicidiare o no. Quini potrebbe essere label = 0, ma poster comunque depresso.\n",
        "sdcnl_train_original_combined = sdcnl_train_original[sdcnl_train_original['label'] == 1]\n",
        "sdcnl_test_original_combined = sdcnl_test_original[sdcnl_test_original['label'] == 1]\n",
        "\n",
        "sdcnl_train_google_combined = sdcnl_train_google[sdcnl_train_google['label'] == 1]\n",
        "sdcnl_test_google_combined = sdcnl_test_google[sdcnl_test_google['label'] == 1]\n",
        "\n",
        "sdcnl_train_original_combined.rename(columns={'selftext': 'text'}, inplace=True)\n",
        "sdcnl_test_original_combined.rename(columns={'selftext': 'text'}, inplace=True)\n",
        "concatenated_df_train_original = pd.concat([dreaddit_train_original, dep_severity_train_original, sdcnl_train_original_combined], axis=0)\n",
        "concatenated_df_test_original = pd.concat([dreaddit_test_original, dep_severity_test_original, sdcnl_test_original_combined], axis=0)\n",
        "concatenated_df_train_google = pd.concat([dreaddit_train_google, dep_severity_train_google, sdcnl_train_google_combined], axis=0)\n",
        "concatenated_df_test_google = pd.concat([dreaddit_test_google, dep_severity_test_google, sdcnl_test_google_combined], axis=0)\n"
      ]
    },
    {
      "cell_type": "code",
      "source": [
        "indice_da_eliminare = concatenated_df_train_original[concatenated_df_train_original['text'].str.contains(\"k̷̡̧̛̛̹̤͍̙͈̩̩̱̗̦̹̭̦͍̼̦̪̮̰͕̥̦͍̘̠͇̬̦̝̲̱̣͉̞̜͉̪̀͒̏͌̂͋̎̈͗̈́̀̾̃́͒͌̽͂̔͋̓̉̊͑̍͌͛̔̔̎̈́̅̇̅͂̑͗͑̍̉͋͛̓͊͒̃̈́̓̈́̈́̕̕͘͘͠͠i̷̧̧̨̨̲̘͍̖̥̙̳̟̮͎͉͔̙͈̲̪͍͚̥̱̼̥̝̻̖̪̲̞͙̼̩̩͙̱͇̘̊̾͒͋̑̈́̐͆̈͛̈́̎̈́̊̄̄̎̀̃̀̃͛͐͂̈́̉̅́̌͐͊̈̒̑̒̑́̌̀̌̉͌̅̌̆̂͋̓̈́̕͠͠͝\")].index\n",
        "concatenated_df_train_original = concatenated_df_train_original.drop(indice_da_eliminare)\n",
        "\n",
        "indice_da_eliminare = concatenated_df_train_google[concatenated_df_train_google['text tradotto'].str.contains(\"k̷̡̧̛̛̹̤͍̙͈̩̩̱̗̦̹̭̦͍̼̦̪̮̰͕̥̦͍̘̠͇̬̦̝̲̱̣͉̞̜͉̪̀͒̏͌̂͋̎̈͗̈́̀̾̃́͒͌̽͂̔͋̓̉̊͑̍͌͛̔̔̎̈́̅̇̅͂̑͗͑̍̉͋͛̓͊͒̃̈́̓̈́̈́̕̕͘͘͠͠i̷̧̧̨̨̲̘͍̖̥̙̳̟̮͎͉͔̙͈̲̪͍͚̥̱̼̥̝̻̖̪̲̞͙̼̩̩͙̱͇̘̊̾͒͋̑̈́̐͆̈͛̈́̎̈́̊̄̄̎̀̃̀̃͛͐͂̈́̉̅́̌͐͊̈̒̑̒̑́̌̀̌̉͌̅̌̆̂͋̓̈́̕͠͠͝\")].index\n",
        "concatenated_df_train_google = concatenated_df_train_google.drop(indice_da_eliminare)\n",
        "concatenated_df_train_google"
      ],
      "metadata": {
        "id": "ujS3NgW-p23K"
      },
      "execution_count": null,
      "outputs": []
    },
    {
      "cell_type": "code",
      "source": [
        "indice_da_eliminare = concatenated_df_train_original[concatenated_df_train_original['text'].str.contains(\"I'm writing this because I've just once again\")].index\n",
        "concatenated_df_train_original = concatenated_df_train_original.drop(indice_da_eliminare)\n",
        "concatenated_df_train_original"
      ],
      "metadata": {
        "id": "g7XCICwdvqZu"
      },
      "execution_count": null,
      "outputs": []
    },
    {
      "cell_type": "code",
      "source": [
        "indice_da_eliminare = concatenated_df_train_original[concatenated_df_train_original['text'].str.contains(\"After 29 years of being\")].index\n",
        "concatenated_df_train_original = concatenated_df_train_original.drop(indice_da_eliminare)\n",
        "concatenated_df_train_original"
      ],
      "metadata": {
        "id": "xTZTO2260Bio"
      },
      "execution_count": null,
      "outputs": []
    },
    {
      "cell_type": "markdown",
      "metadata": {
        "id": "b1VFBzLW5dd3"
      },
      "source": [
        "# **TRADUZIONE**"
      ]
    },
    {
      "cell_type": "code",
      "execution_count": null,
      "metadata": {
        "id": "XDXgWkB857ZU"
      },
      "outputs": [],
      "source": [
        "tokenizer = AutoTokenizer.from_pretrained(\"Helsinki-NLP/opus-mt-en-it\")\n",
        "model = AutoModelForSeq2SeqLM.from_pretrained(\"Helsinki-NLP/opus-mt-en-it\")"
      ]
    },
    {
      "cell_type": "code",
      "execution_count": null,
      "metadata": {
        "id": "sFiQeDKvzQeG"
      },
      "outputs": [],
      "source": [
        "sdcnl_test['text_tradotto_helsinki']=''\n",
        "sdcnl_test['text_tradotto']=''\n",
        "sdcnl_train['text_tradotto_helsinki']=''\n",
        "sdcnl_train['text_tradotto']=''"
      ]
    },
    {
      "cell_type": "code",
      "execution_count": null,
      "metadata": {
        "id": "wA63-mMI2akS"
      },
      "outputs": [],
      "source": [
        "translator = GoogleTranslator(source='en', target='it')\n",
        "MAX_LENGTH = 5000\n",
        "MAX_TOKEN = 512\n",
        "RETRY_LIMIT = 3\n",
        "sdcnl_test['text_tradotto_helsinki'] = sdcnl_test['selftext'].apply(translate_text_helsinki)\n",
        "sdcnl_test.to_csv('sdcnl_test_helsinki')\n",
        "sdcnl_test['text_tradotto'] = sdcnl_test['selftext'].apply(translate_text)\n",
        "sdcnl_test.to_csv('sdcnl_test')\n",
        "sdcnl_train['text_tradotto_helsinki'] = sdcnl_train['selftext'].apply(translate_text_helsinki)\n",
        "sdcnl_train.to_csv('sdcnl_train_helsinki')\n",
        "sdcnl_train['text_tradotto'] = sdcnl_train['selftext'].apply(translate_text)\n",
        "sdcnl_train.to_csv('sdcnl_train_helsinki')"
      ]
    },
    {
      "cell_type": "code",
      "execution_count": null,
      "metadata": {
        "id": "6IyPU1HrCcWL"
      },
      "outputs": [],
      "source": [
        "sdcnl_test=pd.read_csv(\"sdcnl_test\")\n",
        "sdcnl_test.to_excel(\"sdcnl_test.xlsx\")\n",
        "sdcnl_test_helsinki=pd.read_csv(\"sdcnl_test_helsinki\")\n",
        "sdcnl_test_helsinki.to_excel(\"sdcnl_test_helsinki.xlsx\")\n",
        "sdcnl_train=pd.read_csv(\"sdcnl_train\")\n",
        "sdcnl_train.to_excel(\"sdcnl_train.xlsx\")\n",
        "sdcnl_train_helsinki=pd.read_csv(\"sdcnl_train_helsinki\")\n",
        "sdcnl_train_helsinki.to_excel(\"sdcnl_train_helsinki.xlsx\")\n"
      ]
    },
    {
      "cell_type": "code",
      "execution_count": null,
      "metadata": {
        "id": "pgXVVmRr_0Lt"
      },
      "outputs": [],
      "source": [
        "sdcnl_test_google=pd.read_excel(\"sdcnl_test.xlsx\")\n",
        "sdcnl_test_helsinki=pd.read_excel(\"sdcnl_test_helsinki.xlsx\")\n",
        "sdcnl_train_google=pd.read_excel(\"sdcnl_train.xlsx\")\n",
        "sdcnl_train_helsinki=pd.read_excel(\"sdcnl_train_helsinki.xlsx\")"
      ]
    },
    {
      "cell_type": "code",
      "execution_count": null,
      "metadata": {
        "id": "0lrMGoq6AXD0"
      },
      "outputs": [],
      "source": [
        "sdcnl_train = sdcnl_train_google.merge(sdcnl_train_helsinki[['text_tradotto_helsinki']], left_index=True, right_index=True, how='left')\n",
        "sdcnl_test = sdcnl_test_google.merge(sdcnl_test_helsinki[['text_tradotto_helsinki']], left_index=True, right_index=True, how='left')\n",
        "sdcnl_train_tradotto = sdcnl_train_tradotto.loc[:, ~sdcnl_train_tradotto.columns.str.contains('^Unnamed')]\n",
        "sdcnl_test_tradotto = sdcnl_test_tradotto.loc[:, ~sdcnl_test_tradotto.columns.str.contains('^Unnamed')]\n",
        "sdcnl_train.to_excel(\"sdcnl_train_originale.xlsx\")\n",
        "sdcnl_test.to_excel(\"sdcnl_test_originale.xlsx\")"
      ]
    },
    {
      "cell_type": "markdown",
      "source": [
        "In questa fase il dataset è stato diviso per velocizzare le operazioni. Avendo un utilizzo della GPU ridotto e impigando un tempo elevato per l'elaborazione con la CPU, ho diviso il dataset così da effettuare traduzioni a step."
      ],
      "metadata": {
        "id": "Na3Sw3WwJFJQ"
      }
    },
    {
      "cell_type": "code",
      "execution_count": null,
      "metadata": {
        "id": "6_q_FBfvTTMX"
      },
      "outputs": [],
      "source": [
        "quarter=int(len(dreaddit_train) / 4)\n",
        "dreaddit_train_1 =dreaddit_train[:quarter]\n",
        "dreaddit_train_2 =dreaddit_train[quarter:quarter*2]\n",
        "dreaddit_train_3 =dreaddit_train[quarter*2:quarter*3]\n",
        "dreaddit_train_4 =dreaddit_train[quarter*3:]\n"
      ]
    },
    {
      "cell_type": "code",
      "execution_count": null,
      "metadata": {
        "id": "s8tNEyy68msu"
      },
      "outputs": [],
      "source": [
        "dreaddit_train_4['text_tradotto_helsinki'] = dreaddit_train_4['text'].apply(translate_text_helsinki)\n",
        "dreaddit_train_4.to_excel('dreaddit_train_4.xlsx')"
      ]
    },
    {
      "cell_type": "code",
      "execution_count": null,
      "metadata": {
        "id": "JLvDUzVybSVB"
      },
      "outputs": [],
      "source": [
        "dreaddit_train_1 = pd.read_excel(\"dreaddit_train_1.xlsx\")\n",
        "dreaddit_train_2 = pd.read_excel(\"dreaddit_train_2.xlsx\")\n",
        "dreaddit_train_3 = pd.read_excel(\"dreaddit_train_3.xlsx\")\n",
        "dreaddit_train_4 = pd.read_excel(\"dreaddit_train_4.xlsx\")\n",
        "dreaddit_test = pd.read_excel(\"dreaddit_test_helsinki.xlsx\")\n",
        "dep_severity = pd.read_excel(\"dep_severity_google.xlsx\")\n",
        "dreaddit_train = pd.concat([dreaddit_train_1, dreaddit_train_2, dreaddit_train_3, dreaddit_train_4], ignore_index=True)\n",
        "\n"
      ]
    },
    {
      "cell_type": "code",
      "execution_count": null,
      "metadata": {
        "id": "Y-uQzP-vb8jr"
      },
      "outputs": [],
      "source": [
        "merged_df = dep_severity.merge(dreaddit_train[['text', 'text_tradotto_helsinki']], on='text', how='left', suffixes=('', '_train'))\n",
        "merged_df = merged_df.merge(dreaddit_test[['text', 'text_tradotto_helsinki']], on='text', how='left', suffixes=('', '_test'))\n",
        "merged_df['text_tradotto_helsinki'] = merged_df['text_tradotto_helsinki'].combine_first(merged_df['text_tradotto_helsinki_test'])\n",
        "merged_df.drop(columns=['Unnamed: 0','text_tradotto_helsinki_test'], inplace=True)\n",
        "merged_df.to_excel('dep_severity_tradotto.xlsx')"
      ]
    },
    {
      "cell_type": "code",
      "execution_count": null,
      "metadata": {
        "id": "74nnOzLOf-md"
      },
      "outputs": [],
      "source": [
        "merged_df_train = dreaddit_train.merge(dep_severity[['text tradotto', 'text']], on='text', how='left', suffixes=('', '_train'))\n",
        "merged_df_test = dreaddit_test.merge(dep_severity[['text', 'text tradotto']], on='text', how='left', suffixes=('', '_test'))\n",
        "merged_df_test.drop(columns=['Unnamed: 0'], inplace=True)\n",
        "merged_df_train.drop(columns=['Unnamed: 0'], inplace=True)\n",
        "merged_df_train.to_excel('dreaddit_train_tradotto.xlsx')\n",
        "merged_df_test.to_excel('dreaddit_test_tradotto.xlsx')\n"
      ]
    },
    {
      "cell_type": "markdown",
      "metadata": {
        "id": "dhugTrtwifHY"
      },
      "source": [
        "#**FlanT5**"
      ]
    },
    {
      "cell_type": "markdown",
      "metadata": {
        "id": "FpdzuWp39XAj"
      },
      "source": [
        "Da cambiare manualmente il dataset da utilizzare"
      ]
    },
    {
      "cell_type": "code",
      "execution_count": null,
      "metadata": {
        "id": "kfhiD4l8o8mK"
      },
      "outputs": [],
      "source": [
        "model_name =\"google/flan-t5-base\"\n",
        "\n",
        "tokenizer = AutoTokenizer.from_pretrained(model_name)\n",
        "model = AutoModelForSequenceClassification.from_pretrained(model_name, num_labels=len(concatenated_df_train_google['label'].unique()))"
      ]
    },
    {
      "cell_type": "code",
      "execution_count": null,
      "metadata": {
        "id": "_pRGjv5tQOJV"
      },
      "outputs": [],
      "source": [
        "training(concatenated_df_train_google)"
      ]
    },
    {
      "cell_type": "code",
      "execution_count": null,
      "metadata": {
        "id": "MMmIvjLlQTYJ"
      },
      "outputs": [],
      "source": [
        "# Directory to save the model on Google Drive\n",
        "save_directory = \"/content/drive/My Drive/model_weight/model_llm/\"\n",
        "if not os.path.exists(save_directory):\n",
        "    os.makedirs(save_directory)\n",
        "\n",
        "# Path to save the model weights\n",
        "model_save_path = os.path.join(save_directory, \"flant5_model_weights.pth\")\n",
        "torch.save(model.state_dict(), model_save_path)\n",
        "print(f\"Model weights saved to {model_save_path}\")"
      ]
    },
    {
      "cell_type": "code",
      "execution_count": null,
      "metadata": {
        "id": "hpS5wU4kGwEt"
      },
      "outputs": [],
      "source": [
        "#rende int tutte le stringhe. Effettuo questo check per qualsiasi dataset\n",
        "concatenated_df_test_google['label'] = concatenated_df_test_google['label'].astype(int)\n",
        "concatenated_df_test_original['label'] = concatenated_df_test_original['label'].astype(int)\n",
        "\n",
        "dreaddit_test_google['label'] = dreaddit_test_google['label'].astype(int)\n",
        "dreaddit_test_original['label'] = dreaddit_test_original['label'].astype(int)\n",
        "\n",
        "sdcnl_test_google['label'] = sdcnl_test_google['label'].astype(int)\n",
        "sdcnl_test_original['label'] = sdcnl_test_original['label'].astype(int)\n",
        "\n",
        "dep_severity_test_google['label'] = dep_severity_test_google['label'].astype(int)\n",
        "dep_severity_test_original['label'] = dep_severity_test_original['label'].astype(int)"
      ]
    },
    {
      "cell_type": "code",
      "execution_count": null,
      "metadata": {
        "id": "V5CC0xHwWEvr"
      },
      "outputs": [],
      "source": [
        "save_directory = \"/content/drive/My Drive/model_weight/model_llm/\"\n",
        "model_save_path = os.path.join(save_directory, \"flant5_model_weights.pth\")\n",
        "\n",
        "model.load_state_dict(torch.load(model_save_path))\n",
        "bal_acc = testing(concatenated_df_test_google, concatenated_df_train_google)\n",
        "\n",
        "\n",
        "model_save_path_csv = os.path.splitext(model_save_path)[0] + \".csv\"\n",
        "\n",
        "concatenated_df_test_google.to_csv(model_save_path_csv, index=False)\n",
        "\n",
        "\n",
        "data = {'Model':os.path.splitext(os.path.basename(model_save_path))[0], 'bal_acc':bal_acc}\n",
        "new_data_df = pd.DataFrame([data])\n",
        "\n",
        "bal_acc_csv_path = os.path.join(save_directory, \"prediction.csv\")\n",
        "if os.path.exists(bal_acc_csv_path):\n",
        "    df_bal_acc = pd.read_csv(bal_acc_csv_path)\n",
        "else:\n",
        "    df_bal_acc = pd.DataFrame(columns=['Model', 'bal_acc'])\n",
        "df_bal_acc = pd.concat([df_bal_acc, new_data_df], ignore_index=True)\n",
        "df_bal_acc.to_csv(bal_acc_csv_path, index=False)\n"
      ]
    },
    {
      "cell_type": "markdown",
      "metadata": {
        "id": "iexy7u8sMdd_"
      },
      "source": [
        "#**BERT**"
      ]
    },
    {
      "cell_type": "code",
      "execution_count": null,
      "metadata": {
        "id": "VETZQIUKMgQ2"
      },
      "outputs": [],
      "source": [
        "model_name = \"bert-base-uncased\"\n",
        "tokenizer = AutoTokenizer.from_pretrained(model_name)\n",
        "model = AutoModelForSequenceClassification.from_pretrained(model_name, num_labels=len(concatenated_df_train_google['label'].unique()))\n"
      ]
    },
    {
      "cell_type": "code",
      "execution_count": null,
      "metadata": {
        "id": "zU6uunU-6cnr"
      },
      "outputs": [],
      "source": [
        "training(concatenated_df_train_google)"
      ]
    },
    {
      "cell_type": "code",
      "execution_count": null,
      "metadata": {
        "id": "jNA7SXFFeYit"
      },
      "outputs": [],
      "source": [
        "save_directory = \"/content/drive/My Drive/model_weight_hg\"\n",
        "if not os.path.exists(save_directory):\n",
        "    os.makedirs(save_directory)\n",
        "\n",
        "model_save_path = os.path.join(save_directory, \"bert_model_weights.pth\")\n",
        "torch.save(model.state_dict(), model_save_path)\n",
        "print(f\"Model weights saved to {model_save_path}\")"
      ]
    },
    {
      "cell_type": "code",
      "execution_count": null,
      "metadata": {
        "id": "MZNzGGJyBHDP"
      },
      "outputs": [],
      "source": [
        "concatenated_df_test_google['label'] = concatenated_df_test_google['label'].astype(int)\n",
        "concatenated_df_test_original['label'] = concatenated_df_test_original['label'].astype(int)\n",
        "\n",
        "dreaddit_test_google['label'] = dreaddit_test_google['label'].astype(int)\n",
        "dreaddit_test_original['label'] = dreaddit_test_original['label'].astype(int)\n",
        "\n",
        "sdcnl_test_google['label'] = sdcnl_test_google['label'].astype(int)\n",
        "sdcnl_test_original['label'] = sdcnl_test_original['label'].astype(int)\n",
        "\n",
        "dep_severity_test_google['label'] = dep_severity_test_google['label'].astype(int)\n",
        "dep_severity_test_original['label'] = dep_severity_test_original['label'].astype(int)"
      ]
    },
    {
      "cell_type": "code",
      "execution_count": null,
      "metadata": {
        "id": "D_Z8nKMdZAgG"
      },
      "outputs": [],
      "source": [
        "save_directory = \"/content/drive/My Drive/model_weight_hg\"\n",
        "model_save_path = os.path.join(save_directory, \"bert_model_weights.pth\")\n",
        "\n",
        "model.load_state_dict(torch.load(model_save_path))\n",
        "bal_acc = testing(concatenated_df_test_google, concatenated_df_train_google)\n",
        "\n",
        "\n",
        "model_save_path_csv = os.path.splitext(model_save_path)[0] + \".csv\"\n",
        "\n",
        "concatenated_df_test_google.to_csv(model_save_path_csv, index=False)\n",
        "\n",
        "\n",
        "data = {'Model':os.path.splitext(os.path.basename(model_save_path))[0], 'bal_acc':bal_acc}\n",
        "new_data_df = pd.DataFrame([data])\n",
        "\n",
        "bal_acc_csv_path = os.path.join(save_directory, \"prediction.csv\")\n",
        "if os.path.exists(bal_acc_csv_path):\n",
        "    df_bal_acc = pd.read_csv(bal_acc_csv_path)\n",
        "else:\n",
        "    df_bal_acc = pd.DataFrame(columns=['Model', 'bal_acc'])\n",
        "df_bal_acc = pd.concat([df_bal_acc, new_data_df], ignore_index=True)\n",
        "df_bal_acc.to_csv(bal_acc_csv_path, index=False)\n"
      ]
    },
    {
      "cell_type": "markdown",
      "source": [
        "Prepare data for the plot"
      ],
      "metadata": {
        "id": "MrSSFukXX-Fu"
      }
    },
    {
      "cell_type": "code",
      "source": [
        "save_directory = \"/content/drive/My Drive/model_weight_hg/\"\n",
        "file_directory_eng = \"bert_eng_model_weights.csv\"\n",
        "file_directory = \"bert_model_weights.csv\"\n",
        "\n",
        "df_eng = pd.read_csv(save_directory + file_directory_eng)\n",
        "df_ita = pd.read_csv(save_directory + file_directory)\n"
      ],
      "metadata": {
        "id": "25AqpleCYRn5"
      },
      "execution_count": null,
      "outputs": []
    },
    {
      "cell_type": "code",
      "source": [
        "df_merged = pd.merge(df_eng, df_ita, left_index=True, right_index=True, suffixes=('_eng', '_ita'))\n",
        "df_merged"
      ],
      "metadata": {
        "id": "vLgvMIn1Zmgc"
      },
      "execution_count": null,
      "outputs": []
    },
    {
      "cell_type": "code",
      "source": [
        "df_correct_predictions = df_merged[(df_merged['label_eng'] == df_merged['predictions_eng']) & (df_merged['label_ita'] == df_merged['predictions_ita'])]\n",
        "df_different_predictions_eng = df_merged[(df_merged['label_eng'] == df_merged['predictions_eng']) & (df_merged['label_ita'] != df_merged['predictions_ita'])]\n",
        "df_different_predictions_ita = df_merged[(df_merged['label_eng'] != df_merged['predictions_eng']) & (df_merged['label_ita'] == df_merged['predictions_ita'])]\n",
        "df_both_incorrect_predictions = df_merged[(df_merged['label_eng'] != df_merged['predictions_eng']) & (df_merged['label_ita'] != df_merged['predictions_ita'])]\n",
        "df_both_incorrect_predictions"
      ],
      "metadata": {
        "id": "VtQaP_L4aYn1"
      },
      "execution_count": null,
      "outputs": []
    },
    {
      "cell_type": "code",
      "source": [
        "dataset_names = ['Both Correct', 'Ita Wrong', 'English Wrong', 'Both Wrong']\n",
        "dataset_lengths = [len(df_correct_predictions), len(df_different_predictions_eng), len(df_different_predictions_ita), len(df_both_incorrect_predictions)]\n",
        "\n",
        "plt.figure(figsize=(12, 6))\n",
        "sns.set(style=\"white\")\n",
        "\n",
        "colors = sns.color_palette(\"pastel\")\n",
        "bars = plt.bar(dataset_names, dataset_lengths, color=colors, edgecolor='black')\n",
        "\n",
        "plt.xlabel('Errors', fontsize=14)\n",
        "plt.ylabel('Number of errors', fontsize=14)\n",
        "plt.title('Model\\'s errors', fontsize=16, fontweight='bold')\n",
        "plt.xticks(rotation=30, ha='right', fontsize=12)\n",
        "for bar in bars:\n",
        "    yval = bar.get_height()\n",
        "    plt.text(bar.get_x() + bar.get_width()/2, yval + 0.5, int(yval), ha='center', va='bottom', fontsize=12)\n",
        "\n",
        "plt.tight_layout()\n",
        "plt.show()\n"
      ],
      "metadata": {
        "colab": {
          "base_uri": "https://localhost:8080/",
          "height": 601
        },
        "id": "pnGW2JYvbQO9",
        "outputId": "f7008a50-c93c-4307-f7ae-81540826f188"
      },
      "execution_count": null,
      "outputs": [
        {
          "output_type": "display_data",
          "data": {
            "text/plain": [
              "<Figure size 1200x600 with 1 Axes>"
            ],
            "image/png": "[encoded data removed]"
          },
          "metadata": {}
        }
      ]
    },
    {
      "cell_type": "markdown",
      "metadata": {
        "id": "tOYdMpC_M521"
      },
      "source": [
        "#**Italian Bert**"
      ]
    },
    {
      "cell_type": "code",
      "execution_count": null,
      "metadata": {
        "id": "aODGLAMLM0FL"
      },
      "outputs": [],
      "source": [
        "model_name = \"dbmdz/bert-base-italian-xxl-cased\"\n",
        "tokenizer = AutoTokenizer.from_pretrained(model_name)\n",
        "model = AutoModelForSequenceClassification.from_pretrained(model_name, num_labels=len(concatenated_df_train_google['label'].unique()))"
      ]
    },
    {
      "cell_type": "code",
      "execution_count": null,
      "metadata": {
        "id": "jm2IIutaoefI"
      },
      "outputs": [],
      "source": [
        "training(concatenated_df_train_google)"
      ]
    },
    {
      "cell_type": "code",
      "execution_count": null,
      "metadata": {
        "id": "U-FbidaRuOGd"
      },
      "outputs": [],
      "source": [
        "# Directory to save the model on Google Drive\n",
        "save_directory = \"/content/drive/My Drive/model_weight_hg\"\n",
        "if not os.path.exists(save_directory):\n",
        "    os.makedirs(save_directory)\n",
        "\n",
        "# Path to save the model weights\n",
        "model_save_path = os.path.join(save_directory, \"bert_model_weights.pth\")\n",
        "torch.save(model.state_dict(), model_save_path)\n",
        "print(f\"Model weights saved to {model_save_path}\")"
      ]
    },
    {
      "cell_type": "code",
      "execution_count": null,
      "metadata": {
        "id": "D5gvovIPBZut"
      },
      "outputs": [],
      "source": [
        "#rende int tutte le stringhe. Effettuo questo check per qualsiasi dataset\n",
        "concatenated_df_test_google['label'] = concatenated_df_test_google['label'].astype(int)\n",
        "concatenated_df_test_original['label'] = concatenated_df_test_original['label'].astype(int)\n",
        "\n",
        "dreaddit_test_google['label'] = dreaddit_test_google['label'].astype(int)\n",
        "dreaddit_test_original['label'] = dreaddit_test_original['label'].astype(int)\n",
        "\n",
        "sdcnl_test_google['label'] = sdcnl_test_google['label'].astype(int)\n",
        "sdcnl_test_original['label'] = sdcnl_test_original['label'].astype(int)\n",
        "\n",
        "dep_severity_test_google['label'] = dep_severity_test_google['label'].astype(int)\n",
        "dep_severity_test_original['label'] = dep_severity_test_original['label'].astype(int)"
      ]
    },
    {
      "cell_type": "code",
      "execution_count": null,
      "metadata": {
        "id": "4PDL-aZifkPk"
      },
      "outputs": [],
      "source": [
        "save_directory = \"/content/drive/My Drive/model_weight_hg\"\n",
        "model_save_path = os.path.join(save_directory, \"bert_model_weights.pth\")\n",
        "\n",
        "model.load_state_dict(torch.load(model_save_path))\n",
        "bal_acc = testing(concatenated_df_test_google, concatenated_df_train_google)\n",
        "\n",
        "model_save_path_csv = os.path.splitext(model_save_path)[0] + \".csv\"\n",
        "\n",
        "concatenated_df_test_google.to_csv(model_save_path_csv, index=False)\n",
        "\n",
        "\n",
        "data = {'Model':os.path.splitext(os.path.basename(model_save_path))[0], 'bal_acc':bal_acc}\n",
        "new_data_df = pd.DataFrame([data])\n",
        "\n",
        "bal_acc_csv_path = os.path.join(save_directory, \"prediction.csv\")\n",
        "if os.path.exists(bal_acc_csv_path):\n",
        "    df_bal_acc = pd.read_csv(bal_acc_csv_path)\n",
        "else:\n",
        "    df_bal_acc = pd.DataFrame(columns=['Model', 'bal_acc'])\n",
        "df_bal_acc = pd.concat([df_bal_acc, new_data_df], ignore_index=True)\n",
        "df_bal_acc.to_csv(bal_acc_csv_path, index=False)\n"
      ]
    },
    {
      "cell_type": "markdown",
      "metadata": {
        "id": "unwJxPaUf_ym"
      },
      "source": [
        "#**Roberta Ita**"
      ]
    },
    {
      "cell_type": "code",
      "execution_count": null,
      "metadata": {
        "id": "E7ZTjeJ2gDZm"
      },
      "outputs": [],
      "source": [
        "model_name = \"osiria/roberta-base-italian\"\n",
        "tokenizer = AutoTokenizer.from_pretrained(model_name)\n",
        "model = AutoModelForSequenceClassification.from_pretrained(model_name, num_labels=len(concatenated_df_train_google['label'].unique()))"
      ]
    },
    {
      "cell_type": "code",
      "execution_count": null,
      "metadata": {
        "id": "z3q4NVrlXzzi"
      },
      "outputs": [],
      "source": [
        "training(concatenated_df_train_google)"
      ]
    },
    {
      "cell_type": "code",
      "execution_count": null,
      "metadata": {
        "id": "4-dlGO5pCK02"
      },
      "outputs": [],
      "source": [
        "save_directory = \"/content/drive/My Drive/model_weight_hg\"\n",
        "if not os.path.exists(save_directory):\n",
        "    os.makedirs(save_directory)\n",
        "\n",
        "\n",
        "model_save_path = os.path.join(save_directory, \"Roberta_model_weights.pth\")\n",
        "torch.save(model.state_dict(), model_save_path)\n",
        "print(f\"Model weights saved to {model_save_path}\")"
      ]
    },
    {
      "cell_type": "code",
      "source": [
        "#rende int tutte le stringhe. Effettuo questo check per qualsiasi dataset\n",
        "concatenated_df_test_google['label'] = concatenated_df_test_google['label'].astype(int)\n",
        "concatenated_df_test_original['label'] = concatenated_df_test_original['label'].astype(int)\n",
        "\n",
        "dreaddit_test_google['label'] = dreaddit_test_google['label'].astype(int)\n",
        "dreaddit_test_original['label'] = dreaddit_test_original['label'].astype(int)\n",
        "\n",
        "sdcnl_test_google['label'] = sdcnl_test_google['label'].astype(int)\n",
        "sdcnl_test_original['label'] = sdcnl_test_original['label'].astype(int)\n",
        "\n",
        "dep_severity_test_google['label'] = dep_severity_test_google['label'].astype(int)\n",
        "dep_severity_test_original['label'] = dep_severity_test_original['label'].astype(int)"
      ],
      "metadata": {
        "id": "vGmePa3O6H5v"
      },
      "execution_count": null,
      "outputs": []
    },
    {
      "cell_type": "code",
      "execution_count": null,
      "metadata": {
        "id": "0H6z9sRor9PR"
      },
      "outputs": [],
      "source": [
        "save_directory = \"/content/drive/My Drive/model_weight_hg\"\n",
        "model_save_path = os.path.join(save_directory, \"Roberta_model_weights.pth\")\n",
        "\n",
        "model.load_state_dict(torch.load(model_save_path))\n",
        "bal_acc = testing(concatenated_df_test_google, concatenated_df_train_google)\n",
        "\n",
        "\n",
        "model_save_path_csv = os.path.splitext(model_save_path)[0] + \".csv\"\n",
        "\n",
        "concatenated_df_test_google.to_csv(model_save_path_csv, index=False)\n",
        "\n",
        "\n",
        "data = {'Model':os.path.splitext(os.path.basename(model_save_path))[0], 'bal_acc':bal_acc}\n",
        "new_data_df = pd.DataFrame([data])\n",
        "\n",
        "bal_acc_csv_path = os.path.join(save_directory, \"prediction.csv\")\n",
        "if os.path.exists(bal_acc_csv_path):\n",
        "    df_bal_acc = pd.read_csv(bal_acc_csv_path)\n",
        "else:\n",
        "    df_bal_acc = pd.DataFrame(columns=['Model', 'bal_acc'])\n",
        "df_bal_acc = pd.concat([df_bal_acc, new_data_df], ignore_index=True)\n",
        "df_bal_acc.to_csv(bal_acc_csv_path, index=False)\n"
      ]
    },
    {
      "cell_type": "markdown",
      "metadata": {
        "id": "l2JD02_XgVkZ"
      },
      "source": [
        "#**Roberta**"
      ]
    },
    {
      "cell_type": "code",
      "execution_count": null,
      "metadata": {
        "id": "Q4J-Sz6MolSf"
      },
      "outputs": [],
      "source": [
        "model_name = \"FacebookAI/roberta-base\"\n",
        "\n",
        "tokenizer = AutoTokenizer.from_pretrained(model_name)\n",
        "model = AutoModelForSequenceClassification.from_pretrained(model_name, num_labels=len(concatenated_df_train_original['label'].unique()))"
      ]
    },
    {
      "cell_type": "code",
      "execution_count": null,
      "metadata": {
        "id": "AEpykmnsov-d"
      },
      "outputs": [],
      "source": [
        "training(concatenated_df_train_original)"
      ]
    },
    {
      "cell_type": "code",
      "execution_count": null,
      "metadata": {
        "id": "UKZdj1q5oyvL"
      },
      "outputs": [],
      "source": [
        "save_directory = \"/content/drive/My Drive/model_weight_hg\"\n",
        "if not os.path.exists(save_directory):\n",
        "    os.makedirs(save_directory)\n",
        "\n",
        "\n",
        "model_save_path = os.path.join(save_directory, \"Roberta_eng_model_weights.pth\")\n",
        "torch.save(model.state_dict(), model_save_path)\n",
        "print(f\"Model weights saved to {model_save_path}\")"
      ]
    },
    {
      "cell_type": "code",
      "source": [
        "concatenated_df_test_google['label'] = concatenated_df_test_google['label'].astype(int)\n",
        "concatenated_df_test_original['label'] = concatenated_df_test_original['label'].astype(int)\n",
        "\n",
        "dreaddit_test_google['label'] = dreaddit_test_google['label'].astype(int)\n",
        "dreaddit_test_original['label'] = dreaddit_test_original['label'].astype(int)\n",
        "\n",
        "sdcnl_test_google['label'] = sdcnl_test_google['label'].astype(int)\n",
        "sdcnl_test_original['label'] = sdcnl_test_original['label'].astype(int)\n",
        "\n",
        "dep_severity_test_google['label'] = dep_severity_test_google['label'].astype(int)\n",
        "dep_severity_test_original['label'] = dep_severity_test_original['label'].astype(int)"
      ],
      "metadata": {
        "id": "0M_FbL1wClGW"
      },
      "execution_count": null,
      "outputs": []
    },
    {
      "cell_type": "code",
      "execution_count": null,
      "metadata": {
        "id": "Omn5HpeEzH6b"
      },
      "outputs": [],
      "source": [
        "save_directory = \"/content/drive/My Drive/model_weight_hg\"\n",
        "model_save_path = os.path.join(save_directory, \"Roberta_eng_model_weights.pth\")\n",
        "\n",
        "model.load_state_dict(torch.load(model_save_path))\n",
        "bal_acc = testing(concatenated_df_test_original, concatenated_df_train_original)\n",
        "\n",
        "\n",
        "model_save_path_csv = os.path.splitext(model_save_path)[0] + \".csv\"\n",
        "\n",
        "concatenated_df_test_original.to_csv(model_save_path_csv, index=False)\n",
        "\n",
        "\n",
        "data = {'Model':os.path.splitext(os.path.basename(model_save_path))[0], 'bal_acc':bal_acc}\n",
        "new_data_df = pd.DataFrame([data])\n",
        "\n",
        "bal_acc_csv_path = os.path.join(save_directory, \"prediction.csv\")\n",
        "if os.path.exists(bal_acc_csv_path):\n",
        "    df_bal_acc = pd.read_csv(bal_acc_csv_path)\n",
        "else:\n",
        "    df_bal_acc = pd.DataFrame(columns=['Model', 'bal_acc'])\n",
        "df_bal_acc = pd.concat([df_bal_acc, new_data_df], ignore_index=True)\n",
        "df_bal_acc.to_csv(bal_acc_csv_path, index=False)\n"
      ]
    },
    {
      "cell_type": "markdown",
      "metadata": {
        "id": "BB8PwqM-gelW"
      },
      "source": [
        "#**QWEN**"
      ]
    },
    {
      "cell_type": "markdown",
      "metadata": {
        "id": "AOg15R1XNNpi"
      },
      "source": [
        "**Codice unito fornito solo per QWEN**"
      ]
    },
    {
      "cell_type": "markdown",
      "metadata": {
        "id": "Ew0Qos_Uhz0m"
      },
      "source": [
        "ValueError: Cannot handle batch sizes > 1 if no padding token is defined"
      ]
    },
    {
      "cell_type": "code",
      "source": [
        "model_name = \"Qwen/Qwen2-0.5B-Instruct\"\n",
        "tokenizer = AutoTokenizer.from_pretrained(model_name)\n",
        "model = AutoModelForSequenceClassification.from_pretrained(model_name, num_labels=len(dep_severity_train_google['label'].unique()))"
      ],
      "metadata": {
        "id": "JPFd226maVet"
      },
      "execution_count": null,
      "outputs": []
    },
    {
      "cell_type": "code",
      "source": [
        "training_qwen(dep_severity_train_google)"
      ],
      "metadata": {
        "id": "XlS7EK9HaYz9"
      },
      "execution_count": null,
      "outputs": []
    },
    {
      "cell_type": "code",
      "source": [
        "concatenated_df_test_google['label'] = concatenated_df_test_google['label'].astype(int)\n",
        "concatenated_df_test_original['label'] = concatenated_df_test_original['label'].astype(int)\n",
        "\n",
        "dreaddit_test_google['label'] = dreaddit_test_google['label'].astype(int)\n",
        "dreaddit_test_original['label'] = dreaddit_test_original['label'].astype(int)\n",
        "\n",
        "sdcnl_test_google['label'] = sdcnl_test_google['label'].astype(int)\n",
        "sdcnl_test_original['label'] = sdcnl_test_original['label'].astype(int)\n",
        "\n",
        "dep_severity_test_google['label'] = dep_severity_test_google['label'].astype(int)\n",
        "dep_severity_test_original['label'] = dep_severity_test_original['label'].astype(int)"
      ],
      "metadata": {
        "id": "h6TfMcf6aaDO"
      },
      "execution_count": null,
      "outputs": []
    },
    {
      "cell_type": "code",
      "execution_count": null,
      "metadata": {
        "id": "qAkk_eAfD7tw"
      },
      "outputs": [],
      "source": [
        "save_directory = \"/content/drive/My Drive/model_weight_hg\"\n",
        "if not os.path.exists(save_directory):\n",
        "    os.makedirs(save_directory)\n",
        "\n",
        "model_save_path = os.path.join(save_directory, \"qwen2_eng_model_weights.pth\")\n",
        "torch.save(model.state_dict(), model_save_path)\n",
        "print(f\"Model weights saved to {model_save_path}\")\n",
        "\n",
        "model.load_state_dict(torch.load(model_save_path))\n",
        "bal_acc = testing_qwen(dep_severity_test_google, dep_severity_train_google)\n",
        "\n",
        "model_save_path_csv = os.path.splitext(model_save_path)[0] + \".csv\"\n",
        "dep_severity_test_google.to_csv(model_save_path_csv, index=False)\n",
        "\n",
        "data = {'Model': os.path.splitext(os.path.basename(model_save_path))[0], 'bal_acc': bal_acc}\n",
        "new_data_df = pd.DataFrame([data])\n",
        "\n",
        "bal_acc_csv_path = os.path.join(save_directory, \"prediction.csv\")\n",
        "if os.path.exists(bal_acc_csv_path):\n",
        "    df_bal_acc = pd.read_csv(bal_acc_csv_path)\n",
        "else:\n",
        "    df_bal_acc = pd.DataFrame(columns=['Model', 'bal_acc'])\n",
        "df_bal_acc = pd.concat([df_bal_acc, new_data_df], ignore_index=True)\n",
        "df_bal_acc.to_csv(bal_acc_csv_path, index=False)\n"
      ]
    },
    {
      "cell_type": "markdown",
      "metadata": {
        "id": "v1hFSnBDngq-"
      },
      "source": [
        "#**CrossLanguage FlanT5**"
      ]
    },
    {
      "cell_type": "code",
      "execution_count": null,
      "metadata": {
        "id": "4cISo2pGnlww"
      },
      "outputs": [],
      "source": [
        "model_name =\"google/flan-t5-base\"\n",
        "\n",
        "tokenizer = AutoTokenizer.from_pretrained(model_name)\n",
        "model = AutoModelForSequenceClassification.from_pretrained(model_name, num_labels=len(dep_severity_train_google['label'].unique()))"
      ]
    },
    {
      "cell_type": "code",
      "execution_count": null,
      "metadata": {
        "id": "4LI-zpEO-SKB"
      },
      "outputs": [],
      "source": [
        "concatenated_df_test_google['label'] = concatenated_df_test_google['label'].astype(int)\n",
        "concatenated_df_test_original['label'] = concatenated_df_test_original['label'].astype(int)\n",
        "\n",
        "dreaddit_test_google['label'] = dreaddit_test_google['label'].astype(int)\n",
        "dreaddit_test_original['label'] = dreaddit_test_original['label'].astype(int)\n",
        "\n",
        "sdcnl_test_google['label'] = sdcnl_test_google['label'].astype(int)\n",
        "sdcnl_test_original['label'] = sdcnl_test_original['label'].astype(int)\n",
        "\n",
        "dep_severity_test_google['label'] = dep_severity_test_google['label'].astype(int)\n",
        "dep_severity_test_original['label'] = dep_severity_test_original['label'].astype(int)"
      ]
    },
    {
      "cell_type": "code",
      "execution_count": null,
      "metadata": {
        "id": "wnMXdF9voFQq"
      },
      "outputs": [],
      "source": [
        "save_directory = \"/content/drive/My Drive/model_weight_task_2 (1)\"\n",
        "model_save_path = os.path.join(save_directory, \"flant5_model_weights_helsinki.pth\")\n",
        "\n",
        "to_save_directory = \"/content/drive/My Drive/model_weight_crosslinguage/Dep_severity_task_2\"\n",
        "model_to_save_path = os.path.join(to_save_directory, \"flant5_helsinki_eng_model_weights.csv\")\n",
        "\n",
        "model.load_state_dict(torch.load(model_save_path))\n",
        "bal_acc = testing(dep_severity_test_google, dep_severity_train_google)\n",
        "\n",
        "\n",
        "model_save_path_csv = os.path.splitext(model_save_path)[0] + \".csv\"\n",
        "\n",
        "\n",
        "dep_severity_test_original.to_csv(model_to_save_path, index=False)\n",
        "\n",
        "\n",
        "data = {'Model':os.path.splitext(os.path.basename(model_to_save_path))[0], 'bal_acc':bal_acc}\n",
        "new_data_df = pd.DataFrame([data])\n",
        "\n",
        "bal_acc_csv_path = os.path.join(to_save_directory, \"prediction.csv\")\n",
        "if os.path.exists(bal_acc_csv_path):\n",
        "    df_bal_acc = pd.read_csv(bal_acc_csv_path)\n",
        "else:\n",
        "    df_bal_acc = pd.DataFrame(columns=['Model', 'bal_acc'])\n",
        "df_bal_acc = pd.concat([df_bal_acc, new_data_df], ignore_index=True)\n",
        "df_bal_acc.to_csv(bal_acc_csv_path, index=False)\n"
      ]
    },
    {
      "cell_type": "markdown",
      "metadata": {
        "id": "doRY-au2ODH3"
      },
      "source": [
        "#**Crosslanguage Bert**"
      ]
    },
    {
      "cell_type": "code",
      "execution_count": null,
      "metadata": {
        "id": "3b4ZyvnuOGIg"
      },
      "outputs": [],
      "source": [
        "model_name = \"bert-base-multilingual-cased\"\n",
        "tokenizer = AutoTokenizer.from_pretrained(model_name)\n",
        "model = AutoModelForSequenceClassification.from_pretrained(model_name, num_labels=len(dep_severity_train_original['label'].unique()))"
      ]
    },
    {
      "cell_type": "code",
      "execution_count": null,
      "metadata": {
        "id": "Hw3eQS8pPayb"
      },
      "outputs": [],
      "source": [
        "training(dep_severity_train_original)"
      ]
    },
    {
      "cell_type": "code",
      "execution_count": null,
      "metadata": {
        "id": "hfsvlgpRPezA"
      },
      "outputs": [],
      "source": [
        "save_directory = \"/content/drive/My Drive/model_weight_crosslinguage/Dep_severity\"\n",
        "if not os.path.exists(save_directory):\n",
        "    os.makedirs(save_directory)\n",
        "\n",
        "\n",
        "model_save_path = os.path.join(save_directory, \"bert_eng_model_weights.pth\")\n",
        "torch.save(model.state_dict(), model_save_path)\n",
        "print(f\"Model weights saved to {model_save_path}\")"
      ]
    },
    {
      "cell_type": "code",
      "source": [
        "concatenated_df_test_google['label'] = concatenated_df_test_google['label'].astype(int)\n",
        "concatenated_df_test_original['label'] = concatenated_df_test_original['label'].astype(int)\n",
        "\n",
        "dreaddit_test_google['label'] = dreaddit_test_google['label'].astype(int)\n",
        "dreaddit_test_original['label'] = dreaddit_test_original['label'].astype(int)\n",
        "\n",
        "sdcnl_test_google['label'] = sdcnl_test_google['label'].astype(int)\n",
        "sdcnl_test_original['label'] = sdcnl_test_original['label'].astype(int)\n",
        "\n",
        "dep_severity_test_google['label'] = dep_severity_test_google['label'].astype(int)\n",
        "dep_severity_test_original['label'] = dep_severity_test_original['label'].astype(int)"
      ],
      "metadata": {
        "id": "RCJHsQgPYgYv"
      },
      "execution_count": null,
      "outputs": []
    },
    {
      "cell_type": "code",
      "execution_count": null,
      "metadata": {
        "id": "y-IDIsmXOdf2"
      },
      "outputs": [],
      "source": [
        "save_directory = \"/content/drive/My Drive/model_weight_crosslinguage/Dreaddit\"\n",
        "model_save_path = os.path.join(save_directory, \"bert_eng_model_weights.pth\")\n",
        "\n",
        "to_save_directory = \"/content/drive/My Drive/model_weight_crosslinguage/Dreaddit\"\n",
        "model_to_save_path = os.path.join(to_save_directory, \"bert_eng_google_model_weights.csv\")\n",
        "\n",
        "model.load_state_dict(torch.load(model_save_path))\n",
        "bal_acc = testing(dep_severity_test_google, dep_severity_train_google)\n",
        "\n",
        "\n",
        "model_save_path_csv = os.path.splitext(model_save_path)[0] + \".csv\"\n",
        "\n",
        "\n",
        "dep_severity_test_google.to_csv(model_to_save_path, index=False)\n",
        "\n",
        "\n",
        "data = {'Model':os.path.splitext(os.path.basename(model_to_save_path))[0], 'bal_acc':bal_acc}\n",
        "new_data_df = pd.DataFrame([data])\n",
        "\n",
        "bal_acc_csv_path = os.path.join(to_save_directory, \"prediction.csv\")\n",
        "if os.path.exists(bal_acc_csv_path):\n",
        "    df_bal_acc = pd.read_csv(bal_acc_csv_path)\n",
        "else:\n",
        "    df_bal_acc = pd.DataFrame(columns=['Model', 'bal_acc'])\n",
        "df_bal_acc = pd.concat([df_bal_acc, new_data_df], ignore_index=True)\n",
        "df_bal_acc.to_csv(bal_acc_csv_path, index=False)\n"
      ]
    },
    {
      "cell_type": "markdown",
      "metadata": {
        "id": "S9X11VwK0Jd_"
      },
      "source": [
        "#**Cross Language Roberta**"
      ]
    },
    {
      "cell_type": "code",
      "execution_count": null,
      "metadata": {
        "id": "bxJsMH2P0XSN"
      },
      "outputs": [],
      "source": [
        "model_name=\"FacebookAI/xlm-roberta-base\"\n",
        "tokenizer = AutoTokenizer.from_pretrained(model_name)\n",
        "model = AutoModelForSequenceClassification.from_pretrained(model_name, num_labels=len(dep_severity_train_google['label'].unique()))"
      ]
    },
    {
      "cell_type": "code",
      "execution_count": null,
      "metadata": {
        "id": "Wks7MTbEyFkO"
      },
      "outputs": [],
      "source": [
        "training(dep_severity_train_google)"
      ]
    },
    {
      "cell_type": "code",
      "execution_count": null,
      "metadata": {
        "id": "ZwgxkYuiySyr"
      },
      "outputs": [],
      "source": [
        "save_directory = \"/content/drive/My Drive/model_weight_crosslinguage/Dep_severity\"\n",
        "if not os.path.exists(save_directory):\n",
        "    os.makedirs(save_directory)\n",
        "\n",
        "\n",
        "model_save_path = os.path.join(save_directory, \"Roberta_model_weights.pth\")\n",
        "torch.save(model.state_dict(), model_save_path)\n",
        "print(f\"Model weights saved to {model_save_path}\")"
      ]
    },
    {
      "cell_type": "code",
      "execution_count": null,
      "metadata": {
        "id": "wm0hI_DF0tmZ"
      },
      "outputs": [],
      "source": [
        "concatenated_df_test_google['label'] = concatenated_df_test_google['label'].astype(int)\n",
        "concatenated_df_test_original['label'] = concatenated_df_test_original['label'].astype(int)\n",
        "\n",
        "dreaddit_test_google['label'] = dreaddit_test_google['label'].astype(int)\n",
        "dreaddit_test_original['label'] = dreaddit_test_original['label'].astype(int)\n",
        "\n",
        "sdcnl_test_google['label'] = sdcnl_test_google['label'].astype(int)\n",
        "sdcnl_test_original['label'] = sdcnl_test_original['label'].astype(int)\n",
        "\n",
        "dep_severity_test_google['label'] = dep_severity_test_google['label'].astype(int)\n",
        "dep_severity_test_original['label'] = dep_severity_test_original['label'].astype(int)"
      ]
    },
    {
      "cell_type": "code",
      "execution_count": null,
      "metadata": {
        "id": "MMHuTI2JyXGi"
      },
      "outputs": [],
      "source": [
        "save_directory = \"/content/drive/My Drive/model_weight_crosslinguage/Dep_severity\"\n",
        "model_save_path = os.path.join(save_directory, \"Roberta_model_weights.pth\")\n",
        "\n",
        "to_save_directory = \"/content/drive/My Drive/model_weight_crosslinguage/Dep_severity\"\n",
        "model_to_save_path = os.path.join(to_save_directory, \"Roberta_google_eng_model_weights.csv\")\n",
        "\n",
        "model.load_state_dict(torch.load(model_save_path))\n",
        "\n",
        "bal_acc = testing(dep_severity_test_original, dep_severity_train_original)\n",
        "\n",
        "\n",
        "model_save_path_csv = os.path.splitext(model_save_path)[0] + \".csv\"\n",
        "\n",
        "dep_severity_test_original.to_csv(model_to_save_path, index=False)\n",
        "\n",
        "\n",
        "data = {'Model':os.path.splitext(os.path.basename(model_to_save_path))[0], 'bal_acc':bal_acc}\n",
        "new_data_df = pd.DataFrame([data])\n",
        "\n",
        "bal_acc_csv_path = os.path.join(to_save_directory, \"prediction.csv\")\n",
        "if os.path.exists(bal_acc_csv_path):\n",
        "    df_bal_acc = pd.read_csv(bal_acc_csv_path)\n",
        "else:\n",
        "    df_bal_acc = pd.DataFrame(columns=['Model', 'bal_acc'])\n",
        "df_bal_acc = pd.concat([df_bal_acc, new_data_df], ignore_index=True)\n",
        "df_bal_acc.to_csv(bal_acc_csv_path, index=False)\n"
      ]
    },
    {
      "cell_type": "markdown",
      "metadata": {
        "id": "wwqoT5LGhRqw"
      },
      "source": [
        "#**CrossLanguage QWEN0.5**"
      ]
    },
    {
      "cell_type": "code",
      "execution_count": null,
      "metadata": {
        "id": "S5yVXdGPhb19"
      },
      "outputs": [],
      "source": [
        "model_name =\"Qwen/Qwen2-0.5B\"\n",
        "\n",
        "tokenizer = AutoTokenizer.from_pretrained(model_name)\n",
        "model = AutoModelForSequenceClassification.from_pretrained(model_name, num_labels=len(dep_severity_train_helsinki['label'].unique()))"
      ]
    },
    {
      "cell_type": "code",
      "execution_count": null,
      "metadata": {
        "id": "VEuwjOXrhb2C"
      },
      "outputs": [],
      "source": [
        "concatenated_df_test_google['label'] = concatenated_df_test_google['label'].astype(int)\n",
        "concatenated_df_test_original['label'] = concatenated_df_test_original['label'].astype(int)\n",
        "\n",
        "dreaddit_test_google['label'] = dreaddit_test_google['label'].astype(int)\n",
        "dreaddit_test_original['label'] = dreaddit_test_original['label'].astype(int)\n",
        "\n",
        "sdcnl_test_google['label'] = sdcnl_test_google['label'].astype(int)\n",
        "sdcnl_test_original['label'] = sdcnl_test_original['label'].astype(int)\n",
        "\n",
        "dep_severity_test_google['label'] = dep_severity_test_google['label'].astype(int)\n",
        "dep_severity_test_original['label'] = dep_severity_test_original['label'].astype(int)"
      ]
    },
    {
      "cell_type": "code",
      "execution_count": null,
      "metadata": {
        "id": "0WuTiyCthb2C"
      },
      "outputs": [],
      "source": [
        "save_directory = \"/content/drive/My Drive/model_weight_hg\"\n",
        "model_save_path = os.path.join(save_directory, \"qwen2_eng_model_weights.pth\")\n",
        "\n",
        "\n",
        "to_save_directory = \"/content/drive/MyDrive/model_weight_crosslinguage/Dep_severity\"\n",
        "model_to_save_path = os.path.join(to_save_directory, \"qwen2_google_eng_model_weights.csv\")\n",
        "\n",
        "model.load_state_dict(torch.load(model_save_path))\n",
        "bal_acc = testing_qwen(dep_severity_test_original, dep_severity_train_original)\n",
        "\n",
        "\n",
        "model_save_path_csv = os.path.splitext(model_save_path)[0] + \".csv\"\n",
        "\n",
        "\n",
        "dep_severity_test_original.to_csv(model_to_save_path, index=False)\n",
        "\n",
        "\n",
        "data = {'Model':os.path.splitext(os.path.basename(model_to_save_path))[0], 'bal_acc':bal_acc}\n",
        "new_data_df = pd.DataFrame([data])\n",
        "\n",
        "bal_acc_csv_path = os.path.join(to_save_directory, \"prediction.csv\")\n",
        "if os.path.exists(bal_acc_csv_path):\n",
        "    df_bal_acc = pd.read_csv(bal_acc_csv_path)\n",
        "else:\n",
        "    df_bal_acc = pd.DataFrame(columns=['Model', 'bal_acc'])\n",
        "df_bal_acc = pd.concat([df_bal_acc, new_data_df], ignore_index=True)\n",
        "df_bal_acc.to_csv(bal_acc_csv_path, index=False)\n"
      ]
    },
    {
      "cell_type": "markdown",
      "metadata": {
        "id": "cMRZCVUcQciF"
      },
      "source": [
        "#**Clean text LLM**"
      ]
    },
    {
      "cell_type": "code",
      "execution_count": null,
      "metadata": {
        "id": "CHh0hpJVUk-x"
      },
      "outputs": [],
      "source": [
        "def clean_text(text):\n",
        "    text = text.replace('\\n', ' ')\n",
        "    text = ' '.join(text.split())\n",
        "    return text"
      ]
    },
    {
      "cell_type": "code",
      "execution_count": null,
      "metadata": {
        "id": "gixSWZHBQhEN"
      },
      "outputs": [],
      "source": [
        "dreaddit_test_original.loc[:, 'text'] = dreaddit_test_original['text'].apply(clean_text)\n",
        "sdcnl_test_original.loc[:, 'selftext'] = sdcnl_test_original['selftext'].apply(clean_text)\n",
        "dep_severity_test_original.loc[:, 'text'] = dep_severity_test_original['text'].apply(clean_text)\n",
        "dreaddit_test_google.loc[:, 'text tradotto'] = dreaddit_test_google['text tradotto'].apply(clean_text)\n",
        "sdcnl_test_google.loc[:, 'text tradotto'] = sdcnl_test_google['text tradotto'].apply(clean_text)\n",
        "dep_severity_test_google.loc[:, 'text tradotto'] = dep_severity_test_google['text tradotto'].apply(clean_text)"
      ]
    },
    {
      "cell_type": "markdown",
      "metadata": {
        "id": "1gmoAVmvgWP4"
      },
      "source": [
        "#**FLAN T5 Zero-shot**"
      ]
    },
    {
      "cell_type": "code",
      "execution_count": null,
      "metadata": {
        "id": "qoB_h9OJC6r8"
      },
      "outputs": [],
      "source": [
        "import pandas as pd\n",
        "import torch\n",
        "from transformers import AutoTokenizer, T5ForConditionalGeneration\n",
        "from huggingface_hub import login\n",
        "import os\n",
        "from sklearn.metrics import balanced_accuracy_score\n",
        "\n",
        "device = torch.device(\"cuda\" if torch.cuda.is_available() else \"cpu\")\n",
        "\n",
        "model_id = \"google/flan-t5-large\"\n",
        "dtype = torch.bfloat16\n",
        "\n",
        "\n",
        "tokenizer = AutoTokenizer.from_pretrained(model_id)\n",
        "model = T5ForConditionalGeneration.from_pretrained(model_id, torch_dtype=dtype).to(device)\n",
        "\n",
        "def generate_prompt(text, strategy_prompt, question_prompt):\n",
        "    return f\"{text} {strategy_prompt} {question_prompt}\"\n",
        "\n",
        "\n",
        "\n",
        "\n",
        "strategy_prompts = {\n",
        "    \"Basic\": \"\",\n",
        "    \"Context Enhancement\": \"Consider this post on social media to answer the question.\",\n",
        "    \"Mental Health Enhancement\": \"As a psychologist, read the post on social media and answer the question.\",\n",
        "    \"Context & Mental Health Enhancement\": \"This person wrote this paragraph on social media. As a psychologist, consider the mental well-being condition expressed in this post, read the post on social media, and answer the question.\"\n",
        "}\n",
        "\n",
        "#Select the qustion based on the dataset\n",
        "question_prompts = {\n",
        "    #\"Dreaddit\" :\"Is the poster of this post stressed? Answer only with Yes or No.\"\n",
        "    # \"SDCNL\" :\"Is the poster likely to suicide? Answer only with Yes or No.\"\n",
        "    # \"DepSeverity\" :\"Is the poster of this post depressed? Answer only with Yes or No.\"\n",
        "    \"DepSeverity multiclass\":\"Which level is the poster depressed? Return a level from 0 to 3, where 0 is minimum.\"\n",
        "}\n",
        "\n",
        "results = []\n",
        "\n",
        "# HERE TO CHANGE DF\n",
        "for index, row in dep_severity_test_original.iterrows():\n",
        "  # HERE TO CHANGE COLUMN\n",
        "    text = row['text']\n",
        "\n",
        "    for strategy_name, strategy_prompt in strategy_prompts.items():\n",
        "        for question_name, question_prompt in question_prompts.items():\n",
        "            prompt = generate_prompt(text, strategy_prompt, question_prompt)\n",
        "            inputs = tokenizer(prompt, return_tensors=\"pt\").to(device)\n",
        "\n",
        "            with torch.no_grad():\n",
        "                outputs = model.generate(**inputs, max_length=500)\n",
        "\n",
        "            generated_text = tokenizer.decode(outputs[0], skip_special_tokens=True)\n",
        "            print(generated_text)\n",
        "\n",
        "            # Logica euristica binaria\n",
        "            # if \"si\" in generated_text.lower() or \"yes\" in generated_text.lower():\n",
        "            #     label = 1\n",
        "            # elif \"no\" in generated_text.lower():\n",
        "            #     label = 0\n",
        "            # else:\n",
        "            #     label ='not found'\n",
        "\n",
        "            #Logica euristica multiclass\n",
        "\n",
        "            if \"1\" in generated_text :\n",
        "                label = 1\n",
        "            elif \"2\" in generated_text:\n",
        "                label = 2\n",
        "            elif \"3\" in generated_text:\n",
        "                label = 3\n",
        "            elif \"0\" in generated_text:\n",
        "                label = 0\n",
        "            else:\n",
        "                label = \"not found\"\n",
        "\n",
        "\n",
        "\n",
        "            result_dict = {\n",
        "                'text': text,\n",
        "                'strategy': strategy_name,\n",
        "                'question': question_name,\n",
        "                'prompt': prompt,\n",
        "                'generated_text': generated_text,\n",
        "                'result': label,\n",
        "            }\n",
        "            results.append(result_dict)\n",
        "\n",
        "results_df = pd.DataFrame(results)\n",
        "\n",
        "# HERE TO CHANGE DF and text\n",
        "merged_df = pd.merge(results_df, dep_severity_test_original, left_on=\"text\", right_on=\"text\", how=\"left\")\n",
        "merged_df = merged_df[merged_df['result'] != 'not found']\n",
        "\n",
        "bal_acc_score = 0\n",
        "type_of_prompt = 'Basic'\n",
        "\n",
        "strategies = [\n",
        "    'Basic',\n",
        "    'Context Enhancement',\n",
        "    'Mental Health Enhancement',\n",
        "    'Context & Mental Health Enhancement'\n",
        "]\n",
        "\n",
        "for strategy in strategies:\n",
        "    df = merged_df[merged_df['strategy'] == strategy]\n",
        "    all_labels = df['label']\n",
        "    all_predictions = df['result']\n",
        "    all_labels = all_labels.astype(int)\n",
        "    all_predictions = all_predictions.astype(int)\n",
        "    #For multiclass prediction\n",
        "    #bal_acc = balanced_accuracy_severity(all_labels, all_predictions)\n",
        "    bal_acc = balanced_accuracy(all_labels, all_predictions)\n",
        "    if bal_acc > bal_acc_score:\n",
        "        bal_acc_score = bal_acc\n",
        "        type_of_prompt = strategy\n",
        "\n",
        "save_directory = \"/content/drive/My Drive/csv_zero_shot/\"\n",
        "# HERE TO CHANGE Name\n",
        "csv_save_path = os.path.join(save_directory, \"dreaddit_test_original_flant5.csv\")\n",
        "merged_df.to_csv(csv_save_path, index=False)\n",
        "\n",
        "data = {'Model': os.path.splitext(os.path.basename(csv_save_path))[0], 'bal_acc': bal_acc_score, 'Prompt': type_of_prompt}\n",
        "new_data_df = pd.DataFrame([data])\n",
        "\n",
        "bal_acc_csv_path = os.path.join(save_directory, \"prediction.csv\")\n",
        "if os.path.exists(bal_acc_csv_path):\n",
        "    df_bal_acc = pd.read_csv(bal_acc_csv_path)\n",
        "else:\n",
        "    df_bal_acc = pd.DataFrame(columns=['Model', 'bal_acc', 'Prompt'])\n",
        "df_bal_acc = pd.concat([df_bal_acc, new_data_df], ignore_index=True)\n",
        "df_bal_acc.to_csv(bal_acc_csv_path, index=False)\n",
        "\n",
        "print(\"Risultati salvati in:\", csv_save_path)\n"
      ]
    },
    {
      "cell_type": "markdown",
      "metadata": {
        "id": "EanZj3h-0tUy"
      },
      "source": [
        "#**Flan T5 italian Zero-shot**\n"
      ]
    },
    {
      "cell_type": "code",
      "execution_count": null,
      "metadata": {
        "id": "AdbIEkDFr2Qo"
      },
      "outputs": [],
      "source": [
        "import pandas as pd\n",
        "import torch\n",
        "from transformers import AutoTokenizer, T5ForConditionalGeneration\n",
        "from huggingface_hub import login\n",
        "import os\n",
        "from sklearn.metrics import balanced_accuracy_score\n",
        "\n",
        "\n",
        "device = torch.device(\"cuda\" if torch.cuda.is_available() else \"cpu\")\n",
        "\n",
        "model_id = \"google/flan-t5-large\"\n",
        "dtype = torch.bfloat16\n",
        "\n",
        "tokenizer = AutoTokenizer.from_pretrained(model_id)\n",
        "model = T5ForConditionalGeneration.from_pretrained(model_id, torch_dtype=dtype).to(device)\n",
        "\n",
        "def generate_prompt(text, strategy_prompt, question_prompt):\n",
        "    return f\"{text} {strategy_prompt} {question_prompt}\"\n",
        "\n",
        "strategy_prompts = {\n",
        "    \"Basic\": \"\",\n",
        "    \"Context Enhancement\": \"Considera questo post presente sui social media per rispondere alla seguente domanda.\",\n",
        "    \"Mental Health Enhancement\": \"Come se fossi uno psicologo, leggi il post scritto su un social media e rispondi alla domanda.\",\n",
        "    \"Context & Mental Health Enhancement\": \"Questa persona ha scritto questo paragrafo su un social media. Come se fossi psicologo, considera la condizione di benessere mentale espressa in questo post, leggi il post scritto su un social media e rispondi alla domanda.\"\n",
        "}\n",
        "\n",
        "question_prompts = {\n",
        "    \"Dreaddit\": \"Lo scrittore di questo post risulta essere stressato? Rispondi con Sì o No.\"\n",
        "    #\"SDCNL\" :\"Lo scrittore di questo post vuole suicidarsi? Rispondi solo con Sì o No.\"\n",
        "    #\"DepSeverity\": \"Lo scrittore di questo post risulta essere depresso? Rispondi solo con Sì o No.\"\n",
        "    #\"DepSeverity multiclass\":\"A che livello lo scrittore di questo post risulta essere depresso? Rispondi con un livello da 0 a 3 per indicare il livello di depressione.\"\n",
        "}\n",
        "\n",
        "results = []\n",
        "# HERE TO CHANGE DF\n",
        "for index, row in dep_severity_test_google.iterrows():\n",
        "    text = row['text tradotto']\n",
        "\n",
        "    for strategy_name, strategy_prompt in strategy_prompts.items():\n",
        "        for question_name, question_prompt in question_prompts.items():\n",
        "            prompt = generate_prompt(text, strategy_prompt, question_prompt)\n",
        "            inputs = tokenizer(prompt, return_tensors=\"pt\").to(device)\n",
        "\n",
        "            with torch.no_grad():\n",
        "                outputs = model.generate(**inputs, max_length=500)\n",
        "\n",
        "            generated_text = tokenizer.decode(outputs[0], skip_special_tokens=True)\n",
        "            print(generated_text)\n",
        "\n",
        "            # Logica euristica binaria\n",
        "            # if \"si\" in generated_text.lower() or \"yes\" in generated_text.lower():\n",
        "            #     label = 1\n",
        "            # elif \"no\" in generated_text.lower():\n",
        "            #     label = 0\n",
        "            # else:\n",
        "            #     label ='not found'\n",
        "\n",
        "            #Logica euristica multiclass\n",
        "\n",
        "            if \"1\" in generated_text :\n",
        "                label = 1\n",
        "            elif \"2\" in generated_text:\n",
        "                label = 2\n",
        "            elif \"3\" in generated_text:\n",
        "                label = 3\n",
        "            elif \"0\" in generated_text:\n",
        "                label = 0\n",
        "            else:\n",
        "                label = \"not found\"\n",
        "\n",
        "            result_dict = {\n",
        "                'text': text,\n",
        "                'strategy': strategy_name,\n",
        "                'question': question_name,\n",
        "                'prompt': prompt,\n",
        "                'generated_text': generated_text,\n",
        "                'result': label,\n",
        "            }\n",
        "            results.append(result_dict)\n",
        "\n",
        "results_df = pd.DataFrame(results)\n",
        "# HERE TO CHANGE DF\n",
        "merged_df = pd.merge(results_df, dep_severity_test_google, left_on=\"text\", right_on=\"text tradotto\", how=\"left\")\n",
        "merged_df = merged_df[merged_df['result'] != 'not found']\n",
        "\n",
        "bal_acc_score = 0\n",
        "type_of_prompt = 'Basic'\n",
        "\n",
        "strategies = [\n",
        "    'Basic',\n",
        "    'Context Enhancement',\n",
        "    'Mental Health Enhancement',\n",
        "    'Context & Mental Health Enhancement'\n",
        "]\n",
        "\n",
        "for strategy in strategies:\n",
        "    df = merged_df[merged_df['strategy'] == strategy]\n",
        "    all_labels = df['label']\n",
        "    all_predictions = df['result']\n",
        "    all_labels = all_labels.astype(int)\n",
        "    all_predictions = all_predictions.astype(int)\n",
        "    #bal_acc = balanced_accuracy_severity(all_labels, all_predictions)\n",
        "    bal_acc = balanced_accuracy(all_labels, all_predictions)\n",
        "    if bal_acc > bal_acc_score:\n",
        "        bal_acc_score = bal_acc\n",
        "        type_of_prompt = strategy\n",
        "\n",
        "save_directory = \"/content/drive/My Drive/csv_zero_shot/\"\n",
        "csv_save_path = os.path.join(save_directory, \"dreaddit_test_google_flan.csv\")\n",
        "merged_df.to_csv(csv_save_path, index=False)\n",
        "\n",
        "data = {'Model': os.path.splitext(os.path.basename(csv_save_path))[0], 'bal_acc': bal_acc_score, 'Prompt': type_of_prompt}\n",
        "new_data_df = pd.DataFrame([data])\n",
        "\n",
        "bal_acc_csv_path = os.path.join(save_directory, \"prediction.csv\")\n",
        "if os.path.exists(bal_acc_csv_path):\n",
        "    df_bal_acc = pd.read_csv(bal_acc_csv_path)\n",
        "else:\n",
        "    df_bal_acc = pd.DataFrame(columns=['Model', 'bal_acc', 'Prompt'])\n",
        "df_bal_acc = pd.concat([df_bal_acc, new_data_df], ignore_index=True)\n",
        "df_bal_acc.to_csv(bal_acc_csv_path, index=False)\n",
        "\n",
        "print(\"Risultati salvati in:\", csv_save_path)\n"
      ]
    },
    {
      "cell_type": "markdown",
      "metadata": {
        "id": "ydWsagCTadtZ"
      },
      "source": [
        "#**Bert zero shot**"
      ]
    },
    {
      "cell_type": "code",
      "execution_count": null,
      "metadata": {
        "id": "ut8kK7pQaoDq"
      },
      "outputs": [],
      "source": [
        "import pandas as pd\n",
        "import torch\n",
        "from transformers import AutoTokenizer, BertForSequenceClassification\n",
        "from huggingface_hub import login\n",
        "import os\n",
        "from sklearn.metrics import balanced_accuracy_score\n",
        "\n",
        "\n",
        "device = torch.device(\"cuda\" if torch.cuda.is_available() else \"cpu\")\n",
        "\n",
        "\n",
        "model_id = \"bert-base-uncased\"\n",
        "dtype = torch.bfloat16\n",
        "\n",
        "tokenizer = AutoTokenizer.from_pretrained(model_id)\n",
        "model = BertForSequenceClassification.from_pretrained(model_id, num_labels=2).to(device)\n",
        "\n",
        "def generate_prompt(text, strategy_prompt, question_prompt):\n",
        "    return f\"{text} {strategy_prompt} {question_prompt}\"\n",
        "\n",
        "\n",
        "strategy_prompts = {\n",
        "    \"Basic\": \"\",\n",
        "    \"Context Enhancement\": \"Consider this post on social media to answer the question.\",\n",
        "    \"Mental Health Enhancement\": \"As a psychologist, read the post on social media and answer the question.\",\n",
        "    \"Context & Mental Health Enhancement\": \"This person wrote this paragraph on social media. As a psychologist, consider the mental well-being condition expressed in this post, read the post on social media, and answer the question.\"\n",
        "}\n",
        "\n",
        "question_prompts = {\n",
        "    \"Dreaddit\": \"is the poster of this post stressed? Answer only with 1 or 0.\"\n",
        "    #\"SDCNL\" :\"Is the poster likely to suicide? Answer only with 1 or 0.\"\n",
        "    #\"DepSeverity\" :\"is the poster of this post depressed? Answer only with 1 or 0.\"\n",
        "    #\"DepSeverity multiclass\":\"Which level is the poster depressed? Return a level from 0 to 3, where 0 is minimum.\"\n",
        "}\n",
        "\n",
        "results = []\n",
        "# HERE TO CHANGE DF\n",
        "for index, row in dreaddit_test_original.iterrows():\n",
        "    text = row['text']\n",
        "\n",
        "    for strategy_name, strategy_prompt in strategy_prompts.items():\n",
        "        for question_name, question_prompt in question_prompts.items():\n",
        "            prompt = generate_prompt(text, strategy_prompt, question_prompt)\n",
        "            inputs = tokenizer(prompt, return_tensors=\"pt\", padding=True, truncation=True).to(device)\n",
        "\n",
        "            with torch.no_grad():\n",
        "                outputs = model(**inputs)\n",
        "                logits = outputs.logits\n",
        "                label = torch.argmax(logits, dim=1).item()\n",
        "                print(label)\n",
        "\n",
        "            #label = 1 if predicted_class == 1 else 0\n",
        "\n",
        "            result_dict = {\n",
        "                'text': text,\n",
        "                'strategy': strategy_name,\n",
        "                'question': question_name,\n",
        "                'prompt': prompt,\n",
        "                #'generated_text': \"Yes\" if label == 1 else \"No\",\n",
        "                'result': label,\n",
        "            }\n",
        "            results.append(result_dict)\n",
        "\n",
        "results_df = pd.DataFrame(results)\n",
        "\n",
        "# HERE TO CHANGE DF\n",
        "merged_df = pd.merge(results_df, dreaddit_test_original, left_on=\"text\", right_on=\"text\", how=\"left\")\n",
        "merged_df = merged_df[merged_df['result'] != 'not found']\n",
        "\n",
        "bal_acc_score = 0\n",
        "type_of_prompt = 'Basic'\n",
        "\n",
        "strategies = [\n",
        "    'Basic',\n",
        "    'Context Enhancement',\n",
        "    'Mental Health Enhancement',\n",
        "    'Context & Mental Health Enhancement'\n",
        "]\n",
        "\n",
        "for strategy in strategies:\n",
        "    df = merged_df[merged_df['strategy'] == strategy]\n",
        "    all_labels = df['label']\n",
        "    all_predictions = df['result']\n",
        "    all_labels = all_labels.astype(int)\n",
        "    all_predictions = all_predictions.astype(int)\n",
        "    #bal_acc = balanced_accuracy_severity(all_labels, all_predictions)\n",
        "    bal_acc = balanced_accuracy(all_labels, all_predictions)\n",
        "    if bal_acc > bal_acc_score:\n",
        "        bal_acc_score = bal_acc\n",
        "        type_of_prompt = strategy\n",
        "\n",
        "save_directory = \"/content/drive/My Drive/csv_zero_shot/\"\n",
        "csv_save_path = os.path.join(save_directory, \"dep_severity_test_original_bert.csv\")\n",
        "merged_df.to_csv(csv_save_path, index=False)\n",
        "\n",
        "data = {'Model': os.path.splitext(os.path.basename(csv_save_path))[0], 'bal_acc': bal_acc_score, 'Prompt': type_of_prompt}\n",
        "new_data_df = pd.DataFrame([data])\n",
        "\n",
        "bal_acc_csv_path = os.path.join(save_directory, \"prediction.csv\")\n",
        "if os.path.exists(bal_acc_csv_path):\n",
        "    df_bal_acc = pd.read_csv(bal_acc_csv_path)\n",
        "else:\n",
        "    df_bal_acc = pd.DataFrame(columns=['Model', 'bal_acc', 'Prompt'])\n",
        "df_bal_acc = pd.concat([df_bal_acc, new_data_df], ignore_index=True)\n",
        "df_bal_acc.to_csv(bal_acc_csv_path, index=False)\n",
        "\n",
        "print(\"Risultati salvati in:\", csv_save_path)\n"
      ]
    },
    {
      "cell_type": "markdown",
      "metadata": {
        "id": "nR1u_E_VlhrB"
      },
      "source": [
        "#**Bert Ita zero-shot**"
      ]
    },
    {
      "cell_type": "code",
      "execution_count": null,
      "metadata": {
        "id": "JDygHEdQlkAF"
      },
      "outputs": [],
      "source": [
        "import pandas as pd\n",
        "import torch\n",
        "from transformers import AutoTokenizer, BertForSequenceClassification\n",
        "from huggingface_hub import login\n",
        "import os\n",
        "from sklearn.metrics import balanced_accuracy_score\n",
        "\n",
        "\n",
        "device = torch.device(\"cuda\" if torch.cuda.is_available() else \"cpu\")\n",
        "\n",
        "model_id = \"dbmdz/bert-base-italian-xxl-cased\"\n",
        "dtype = torch.bfloat16\n",
        "\n",
        "tokenizer = AutoTokenizer.from_pretrained(model_id)\n",
        "model = BertForSequenceClassification.from_pretrained(model_id, num_labels=2).to(device)\n",
        "\n",
        "def generate_prompt(text, strategy_prompt, question_prompt):\n",
        "    return f\"{text} {strategy_prompt} {question_prompt}\"\n",
        "\n",
        "\n",
        "strategy_prompts = {\n",
        "    \"Basic\": \"\",\n",
        "    \"Context Enhancement\": \"Considera questo post presente sui social media per rispondere alla seguente domanda.\",\n",
        "    \"Mental Health Enhancement\": \"Come se fossi uno psicologo, leggi il post scritto su un social media e rispondi alla domanda.\",\n",
        "    \"Context & Mental Health Enhancement\": \"Questa persona ha scritto questo paragrafo su un social media. Come se fossi psicologo, considera la condizione di benessere mentale espressa in questo post, leggi il post scritto su un social media e rispondi alla domanda.\"\n",
        "}\n",
        "\n",
        "\n",
        "question_prompts = {\n",
        "    #\"Dreaddit\": \"Lo scrittore di questo post risulta essere stressato? Rispondi solo con 1 o 0.\"\n",
        "    #\"SDCNL\" :\"Lo scrittore di questo post vuole suicidarsi? Rispondi solo con 1 o 0.\"\n",
        "    #\"DepSeverity\": \"Lo scrittore di questo post risulta essere depresso? Rispondi solo con 1 o 0.\"\n",
        "    \"DepSeverity Multiclass\":\"A che livello lo scrittore di questo post risulta essere depresso? Rispondi con un livello da 0 a 3 per indicare il livello di depressione.\"\n",
        "}\n",
        "\n",
        "results = []\n",
        "# HERE TO CHANGE DF\n",
        "for index, row in dep_severity_test_google.iterrows():\n",
        "    text = row['text tradotto']\n",
        "\n",
        "    for strategy_name, strategy_prompt in strategy_prompts.items():\n",
        "        for question_name, question_prompt in question_prompts.items():\n",
        "            prompt = generate_prompt(text, strategy_prompt, question_prompt)\n",
        "            inputs = tokenizer(prompt, return_tensors=\"pt\", padding=True, truncation=True).to(device)\n",
        "\n",
        "            with torch.no_grad():\n",
        "                outputs = model(**inputs)\n",
        "                logits = outputs.logits\n",
        "                label = torch.argmax(logits, dim=1).item()\n",
        "                print(label)\n",
        "\n",
        "            #label = 1 if predicted_class == 1 else 0\n",
        "\n",
        "            result_dict = {\n",
        "                'text': text,\n",
        "                'strategy': strategy_name,\n",
        "                'question': question_name,\n",
        "                'prompt': prompt,\n",
        "                'generated_text': \"Yes\" if label == 1 else \"No\",\n",
        "                'result': label,\n",
        "            }\n",
        "            results.append(result_dict)\n",
        "\n",
        "results_df = pd.DataFrame(results)\n",
        "# HERE TO CHANGE DF\n",
        "merged_df = pd.merge(results_df, dep_severity_test_google, left_on=\"text\", right_on=\"text tradotto\", how=\"left\")\n",
        "merged_df = merged_df[merged_df['result'] != 'not found']\n",
        "\n",
        "bal_acc_score = 0\n",
        "type_of_prompt = 'Basic'\n",
        "\n",
        "strategies = [\n",
        "    'Basic',\n",
        "    'Context Enhancement',\n",
        "    'Mental Health Enhancement',\n",
        "    'Context & Mental Health Enhancement'\n",
        "]\n",
        "\n",
        "for strategy in strategies:\n",
        "    df = merged_df[merged_df['strategy'] == strategy]\n",
        "    all_labels = df['label']\n",
        "    all_predictions = df['result']\n",
        "    all_labels = all_labels.astype(int)\n",
        "    all_predictions = all_predictions.astype(int)\n",
        "    #bal_acc = balanced_accuracy_severity(all_labels, all_predictions)\n",
        "    bal_acc = balanced_accuracy(all_labels, all_predictions)\n",
        "    if bal_acc > bal_acc_score:\n",
        "        bal_acc_score = bal_acc\n",
        "        type_of_prompt = strategy\n",
        "\n",
        "save_directory = \"/content/drive/My Drive/csv_zero_shot/\"\n",
        "csv_save_path = os.path.join(save_directory, \"dep_severity_test_google_bert.csv\")\n",
        "merged_df.to_csv(csv_save_path, index=False)\n",
        "\n",
        "data = {'Model': os.path.splitext(os.path.basename(csv_save_path))[0], 'bal_acc': bal_acc_score, 'Prompt': type_of_prompt}\n",
        "new_data_df = pd.DataFrame([data])\n",
        "\n",
        "bal_acc_csv_path = os.path.join(save_directory, \"prediction.csv\")\n",
        "if os.path.exists(bal_acc_csv_path):\n",
        "    df_bal_acc = pd.read_csv(bal_acc_csv_path)\n",
        "else:\n",
        "    df_bal_acc = pd.DataFrame(columns=['Model', 'bal_acc', 'Prompt'])\n",
        "df_bal_acc = pd.concat([df_bal_acc, new_data_df], ignore_index=True)\n",
        "df_bal_acc.to_csv(bal_acc_csv_path, index=False)\n",
        "\n",
        "print(\"Risultati salvati in:\", csv_save_path)\n"
      ]
    },
    {
      "cell_type": "markdown",
      "metadata": {
        "id": "uoWB22F2RXFi"
      },
      "source": [
        "#**Qwen2-0.5B-Instruct zero-shot**"
      ]
    },
    {
      "cell_type": "code",
      "execution_count": null,
      "metadata": {
        "id": "7lKUDIGh_A6Q"
      },
      "outputs": [],
      "source": [
        "from transformers import AutoModelForCausalLM, AutoTokenizer\n",
        "\n",
        "device = torch.device(\"cuda\" if torch.cuda.is_available() else \"cpu\")\n",
        "model_id = \"Qwen/Qwen2-0.5B-Instruct\"\n",
        "dtype = torch.bfloat16\n",
        "tokenizer = AutoTokenizer.from_pretrained(model_id)\n",
        "model = AutoModelForCausalLM.from_pretrained(model_id, torch_dtype=dtype).to(device)\n",
        "\n",
        "\n",
        "\n",
        "question_prompts = {\n",
        "    \"Dreaddit\" :\"is the poster of this post stressed? Answer only with Yes or No.\"\n",
        "    #\"SDCNL\" :\"Is the poster likely to suicide? Answer only with Yes or No. \"\n",
        "    #\"DepSeverity\" :\"is the poster of this post depressed? Answer with Yes or No.\"\n",
        "    #\"DepSeverity Multiclass\":\"Which level is the poster depressed? Answer with a level from 0 to 3, where 0 is minimum.\"\n",
        "    }\n",
        "\n",
        "\n",
        "strategy_prompts = {\n",
        "    \"Basic\": \"\",\n",
        "    \"Context Enhancement\": \"Consider this post on social media to answer the question.\",\n",
        "    \"Mental Health Enhancement\": \"As a psychologist, read the post on social media and answer the question.\",\n",
        "    \"Context & Mental Health Enhancement\": \"This person wrote this paragraph on social media. As a psychologist, consider the mental well-being condition expressed in this post, read the post on social media, and answer the question.\"\n",
        "}\n",
        "\n",
        "results=[]\n",
        "i=0\n",
        "# HERE TO CHANGE DF\n",
        "for index, row in dreaddit_test_original.iterrows():\n",
        "    text = row['text']\n",
        "\n",
        "    for strategy_name, strategy_prompt in strategy_prompts.items():\n",
        "        for question_name, question_prompt in question_prompts.items():\n",
        "            messages = [\n",
        "                        {\"role\": \"system\", \"content\": f\"{text} {strategy_prompt}\"},\n",
        "                        {\"role\": \"user\", \"content\": question_prompt}\n",
        "                      ]\n",
        "            text_tokenized = tokenizer.apply_chat_template(messages,tokenize=False,add_generation_prompt=True)\n",
        "            model_inputs = tokenizer([text_tokenized], return_tensors=\"pt\").to(device)\n",
        "            i+=1\n",
        "\n",
        "            with torch.no_grad():\n",
        "                outputs = model.generate(model_inputs.input_ids,max_new_tokens=512)\n",
        "                generated_text = [output_ids[len(input_ids):] for input_ids, output_ids in zip(model_inputs.input_ids, outputs)]\n",
        "                response = tokenizer.batch_decode(generated_text, skip_special_tokens=True)[0]\n",
        "                print('***********************************')\n",
        "                print(i)\n",
        "                print(response)\n",
        "\n",
        "            #Binary\n",
        "            first_word = response.split()[0].lower()\n",
        "            if \"yes\" in first_word:\n",
        "                label = 1\n",
        "            elif \"no\" in first_word:\n",
        "                label = 0\n",
        "            else:\n",
        "                label = \"not found\"\n",
        "\n",
        "\n",
        "            #Multiclass\n",
        "            # if \"1\" in response:\n",
        "            #     label = 1\n",
        "            # elif \"2\" in response:\n",
        "            #     label = 2\n",
        "            # elif \"3\" in response:\n",
        "            #     label = 3\n",
        "            # elif \"0\" in response:\n",
        "            #     label = 0\n",
        "            # else:\n",
        "            #     label = \"not found\"\n",
        "\n",
        "\n",
        "            result_dict = {\n",
        "                'text': text,\n",
        "                'strategy': strategy_name,\n",
        "                'question': question_name,\n",
        "                'prompt': question_prompt,\n",
        "                'generated_text': response,\n",
        "                'result': label,\n",
        "            }\n",
        "            results.append(result_dict)\n",
        "\n",
        "results_df = pd.DataFrame(results)\n",
        "# HERE TO CHANGE DF\n",
        "merged_df = pd.merge(results_df, dreaddit_test_original, left_on=\"text\", right_on=\"text\", how=\"left\")\n",
        "\n",
        "not_found = merged_df[merged_df['result'] == 'not found']\n",
        "merged_df = merged_df[merged_df['result'] != 'not found']\n",
        "\n",
        "bal_acc_score = 0\n",
        "type_of_prompt = 'Basic'\n",
        "\n",
        "strategies = [\n",
        "    'Basic',\n",
        "    'Context Enhancement',\n",
        "    'Mental Health Enhancement',\n",
        "    'Context & Mental Health Enhancement'\n",
        "]\n",
        "\n",
        "for strategy in strategies:\n",
        "    df = merged_df[merged_df['strategy'] == strategy]\n",
        "    all_labels = df['label']\n",
        "    all_predictions = df['result']\n",
        "    all_labels = all_labels.astype(int)\n",
        "    all_predictions = all_predictions.astype(int)\n",
        "    #bal_acc = balanced_accuracy_severity(all_labels, all_predictions)\n",
        "    bal_acc = balanced_accuracy(all_labels, all_predictions)\n",
        "    if bal_acc > bal_acc_score:\n",
        "        bal_acc_score = bal_acc\n",
        "        type_of_prompt = strategy\n",
        "\n",
        "save_directory = \"/content/drive/My Drive/csv_zero_shot/\"\n",
        "csv_save_path = os.path.join(save_directory, \"dep_severity_test_original_qwen05.csv\")\n",
        "merged_df.to_csv(csv_save_path, index=False)\n",
        "\n",
        "data = {'Model': os.path.splitext(os.path.basename(csv_save_path))[0], 'bal_acc': bal_acc_score, 'Prompt': type_of_prompt}\n",
        "new_data_df = pd.DataFrame([data])\n",
        "\n",
        "bal_acc_csv_path = os.path.join(save_directory, \"prediction.csv\")\n",
        "if os.path.exists(bal_acc_csv_path):\n",
        "    df_bal_acc = pd.read_csv(bal_acc_csv_path)\n",
        "else:\n",
        "    df_bal_acc = pd.DataFrame(columns=['Model', 'bal_acc', 'Prompt'])\n",
        "df_bal_acc = pd.concat([df_bal_acc, new_data_df], ignore_index=True)\n",
        "df_bal_acc.to_csv(bal_acc_csv_path, index=False)\n",
        "\n",
        "print(\"Risultati salvati in:\", csv_save_path)\n"
      ]
    },
    {
      "cell_type": "markdown",
      "metadata": {
        "id": "BLr72UslX8oR"
      },
      "source": [
        "#**Qwen2-0.5B-Instruct Italian zero-shot**"
      ]
    },
    {
      "cell_type": "code",
      "execution_count": null,
      "metadata": {
        "id": "5Vd6luEtX_Jz"
      },
      "outputs": [],
      "source": [
        "from transformers import AutoModelForCausalLM, AutoTokenizer\n",
        "\n",
        "device = torch.device(\"cuda\" if torch.cuda.is_available() else \"cpu\")\n",
        "model_id = \"Qwen/Qwen2-0.5B-Instruct\"\n",
        "dtype = torch.bfloat16\n",
        "tokenizer = AutoTokenizer.from_pretrained(model_id)\n",
        "model = AutoModelForCausalLM.from_pretrained(model_id, torch_dtype=dtype).to(device)\n",
        "\n",
        "\n",
        "\n",
        "strategy_prompts = {\n",
        "    \"Basic\": \"\",\n",
        "    \"Context Enhancement\": \"Considera questo post presente sui social media per rispondere alla seguente domanda.\",\n",
        "    \"Mental Health Enhancement\": \"Come se fossi uno psicologo, leggi il post scritto su un social media e rispondi alla domanda.\",\n",
        "    \"Context & Mental Health Enhancement\": \"Questa persona ha scritto questo paragrafo su un social media. Come se fossi psicologo, considera la condizione di benessere mentale espressa in questo post, leggi il post scritto su un social media e rispondi alla domanda.\"\n",
        "}\n",
        "\n",
        "question_prompts = {\n",
        "    \"Dreaddit\": \"Lo scrittore di questo post risulta essere stressato? Rispondi solo con Sì o No.\"\n",
        "    #\"SDCNL\" :\"Lo scrittore di questo post vuole suicidarsi? Rispondi solo con Sì o No.\"\n",
        "    #\"DepSeverity\": \"Lo scrittore di questo post risulta essere depresso? Rispondi solo con Sì o No.\"\n",
        "    #\"DepSeverity Multiclass\":\"A che livello lo scrittore di questo post risulta essere depresso? Rispondi solo con da 0,1,2 o 3 dove 0 è il minimo.\"\n",
        "}\n",
        "results=[]\n",
        "i=0\n",
        "# HERE TO CHANGE DF\n",
        "for index, row in dreaddit_test_google.iterrows():\n",
        "    text = row['text tradotto']\n",
        "\n",
        "    for strategy_name, strategy_prompt in strategy_prompts.items():\n",
        "        for question_name, question_prompt in question_prompts.items():\n",
        "            messages = [\n",
        "                        {\"role\": \"system\", \"content\": f\"{text} {strategy_prompt}\"},\n",
        "                        {\"role\": \"user\", \"content\": question_prompt}\n",
        "                      ]\n",
        "            text_tokenized = tokenizer.apply_chat_template(messages,tokenize=False,add_generation_prompt=True)\n",
        "            model_inputs = tokenizer([text_tokenized], return_tensors=\"pt\").to(device)\n",
        "            i+=1\n",
        "\n",
        "            with torch.no_grad():\n",
        "                outputs = model.generate(model_inputs.input_ids,max_new_tokens=512)\n",
        "                generated_text = [output_ids[len(input_ids):] for input_ids, output_ids in zip(model_inputs.input_ids, outputs)]\n",
        "                response = tokenizer.batch_decode(generated_text, skip_special_tokens=True)[0]\n",
        "                print('***********************************')\n",
        "                print(i)\n",
        "                print(response)\n",
        "\n",
        "            #binary\n",
        "            first_word = response.split()[0].lower()\n",
        "            if \"yes\" in first_word or \"sì\" in first_word:\n",
        "                label = 1\n",
        "            elif \"no\" in first_word:\n",
        "                label = 0\n",
        "            else:\n",
        "                label = \"not found\"\n",
        "\n",
        "            #Multiclass\n",
        "            # if \"1\" in response:\n",
        "            #     label = 1\n",
        "            # elif \"2\" in response:\n",
        "            #     label = 2\n",
        "            # elif \"3\" in response:\n",
        "            #     label = 3\n",
        "            # elif \"0\" in response:\n",
        "            #     label = 0\n",
        "            # else:\n",
        "            #     label = \"not found\"\n",
        "\n",
        "            print(label)\n",
        "\n",
        "            result_dict = {\n",
        "                'text': text,\n",
        "                'strategy': strategy_name,\n",
        "                'question': question_name,\n",
        "                'prompt': question_prompt,\n",
        "                'generated_text': response,\n",
        "                'result': label,\n",
        "            }\n",
        "            results.append(result_dict)\n",
        "\n",
        "results_df = pd.DataFrame(results)\n",
        "# HERE TO CHANGE DF\n",
        "merged_df = pd.merge(results_df, dreaddit_test_google, left_on=\"text\", right_on=\"text tradotto\", how=\"left\")\n",
        "\n",
        "not_found = merged_df[merged_df['result'] == 'not found']\n",
        "merged_df = merged_df[merged_df['result'] != 'not found']\n",
        "\n",
        "bal_acc_score = 0\n",
        "type_of_prompt = 'Basic'\n",
        "\n",
        "strategies = [\n",
        "    'Basic',\n",
        "    'Context Enhancement',\n",
        "    'Mental Health Enhancement',\n",
        "    'Context & Mental Health Enhancement'\n",
        "]\n",
        "\n",
        "for strategy in strategies:\n",
        "    df = merged_df[merged_df['strategy'] == strategy]\n",
        "    all_labels = df['label']\n",
        "    all_predictions = df['result']\n",
        "    all_labels = all_labels.astype(int)\n",
        "    all_predictions = all_predictions.astype(int)\n",
        "    # bal_acc = balanced_accuracy_severity(all_labels, all_predictions)\n",
        "    bal_acc = balanced_accuracy(all_labels, all_predictions)\n",
        "    if bal_acc > bal_acc_score:\n",
        "        bal_acc_score = bal_acc\n",
        "        type_of_prompt = strategy\n",
        "\n",
        "save_directory = \"/content/drive/My Drive/csv_zero_shot/\"\n",
        "csv_save_path = os.path.join(save_directory, \"dep_severity_test_google_qwen05.csv\")\n",
        "merged_df.to_csv(csv_save_path, index=False)\n",
        "\n",
        "data = {'Model': os.path.splitext(os.path.basename(csv_save_path))[0], 'bal_acc': bal_acc_score, 'Prompt': type_of_prompt}\n",
        "new_data_df = pd.DataFrame([data])\n",
        "\n",
        "bal_acc_csv_path = os.path.join(save_directory, \"prediction.csv\")\n",
        "if os.path.exists(bal_acc_csv_path):\n",
        "    df_bal_acc = pd.read_csv(bal_acc_csv_path)\n",
        "else:\n",
        "    df_bal_acc = pd.DataFrame(columns=['Model', 'bal_acc', 'Prompt'])\n",
        "df_bal_acc = pd.concat([df_bal_acc, new_data_df], ignore_index=True)\n",
        "df_bal_acc.to_csv(bal_acc_csv_path, index=False)\n",
        "\n",
        "print(\"Risultati salvati in:\", csv_save_path)\n"
      ]
    },
    {
      "cell_type": "markdown",
      "metadata": {
        "id": "wqxu2gFGdAoT"
      },
      "source": [
        "#**Qwen2-1.5B-Instruct zero-shot**"
      ]
    },
    {
      "cell_type": "code",
      "execution_count": null,
      "metadata": {
        "id": "X8-tX2SqdCwd"
      },
      "outputs": [],
      "source": [
        "from transformers import AutoModelForCausalLM, AutoTokenizer\n",
        "\n",
        "device = torch.device(\"cuda\" if torch.cuda.is_available() else \"cpu\")\n",
        "model_id = \"Qwen/Qwen2-1.5B-Instruct\"\n",
        "dtype = torch.bfloat16\n",
        "tokenizer = AutoTokenizer.from_pretrained(model_id)\n",
        "model = AutoModelForCausalLM.from_pretrained(model_id, torch_dtype=dtype).to(device)\n",
        "\n",
        "\n",
        "\n",
        "strategy_prompts = {\n",
        "    \"Basic\": \"\",\n",
        "    \"Context Enhancement\": \"Consider this post on social media to answer the question.\",\n",
        "    \"Mental Health Enhancement\": \"As a psychologist, read the post on social media and answer the question.\",\n",
        "    \"Context & Mental Health Enhancement\": \"This person wrote this paragraph on social media. As a psychologist, consider the mental well-being condition expressed in this post, read the post on social media, and answer the question.\"\n",
        "}\n",
        "\n",
        "question_prompts = {\n",
        "\n",
        "    \"Dreaddit\" :\"is the poster of this post stressed? Answer with Yes or No.\"\n",
        "    #\"SDCNL\" :\"Is the poster likely to suicide? Answer with Yes or No.\"\n",
        "    #\"DepSeverity\" :\"is the poster of this post depressed? Answer with Yes or No.\"\n",
        "    #\"DepSeverity Multiclass\":\"Which level is the poster depressed? Answer with level from 0 to 3, where 0 is minimum.\"\n",
        "}\n",
        "\n",
        "results=[]\n",
        "i=0\n",
        "# HERE TO CHANGE DF\n",
        "for index, row in dreaddit_test_original.iterrows():\n",
        "    text = row['text']\n",
        "\n",
        "    for strategy_name, strategy_prompt in strategy_prompts.items():\n",
        "        for question_name, question_prompt in question_prompts.items():\n",
        "            messages = [\n",
        "                        {\"role\": \"system\", \"content\": f\"{strategy_prompt} {text}\"},\n",
        "                        {\"role\": \"user\", \"content\": question_prompt}\n",
        "                      ]\n",
        "            text_tokenized = tokenizer.apply_chat_template(messages,tokenize=False,add_generation_prompt=True)\n",
        "            model_inputs = tokenizer([text_tokenized], return_tensors=\"pt\").to(device)\n",
        "            i+=1\n",
        "\n",
        "            with torch.no_grad():\n",
        "                outputs = model.generate(model_inputs.input_ids,max_new_tokens=512)\n",
        "                generated_text = [output_ids[len(input_ids):] for input_ids, output_ids in zip(model_inputs.input_ids, outputs)]\n",
        "                response = tokenizer.batch_decode(generated_text, skip_special_tokens=True)[0]\n",
        "                print('***********************************')\n",
        "                print(i)\n",
        "                print(response)\n",
        "\n",
        "            #binary\n",
        "            first_word = response.split()[0].lower()\n",
        "            if \"yes\" in first_word:\n",
        "                label = 1\n",
        "            elif \"no\" in first_word:\n",
        "                label = 0\n",
        "            else:\n",
        "                label = \"not found\"\n",
        "\n",
        "                        #Multiclass\n",
        "            # if \"1\" in response:\n",
        "            #     label = 1\n",
        "            # elif \"2\" in response:\n",
        "            #     label = 2\n",
        "            # elif \"3\" in response:\n",
        "            #     label = 3\n",
        "            # elif \"0\" in response:\n",
        "            #     label = 0\n",
        "            # else:\n",
        "            #     label = \"not found\"\n",
        "\n",
        "            print(label)\n",
        "\n",
        "            result_dict = {\n",
        "                'text': text,\n",
        "                'strategy': strategy_name,\n",
        "                'question': question_name,\n",
        "                'prompt': question_prompt,\n",
        "                'generated_text': response,\n",
        "                'result': label,\n",
        "            }\n",
        "            results.append(result_dict)\n",
        "\n",
        "results_df = pd.DataFrame(results)\n",
        "# HERE TO CHANGE DF\n",
        "merged_df = pd.merge(results_df, dreaddit_test_original, left_on=\"text\", right_on=\"text\", how=\"left\")\n",
        "\n",
        "not_found = merged_df[merged_df['result'] == 'not found']\n",
        "merged_df = merged_df[merged_df['result'] != 'not found']\n",
        "\n",
        "bal_acc_score = 0\n",
        "type_of_prompt = 'Basic'\n",
        "\n",
        "strategies = [\n",
        "    'Basic',\n",
        "    'Context Enhancement',\n",
        "    'Mental Health Enhancement',\n",
        "    'Context & Mental Health Enhancement'\n",
        "]\n",
        "\n",
        "for strategy in strategies:\n",
        "    df = merged_df[merged_df['strategy'] == strategy]\n",
        "    all_labels = df['label']\n",
        "    all_predictions = df['result']\n",
        "    all_labels = all_labels.astype(int)\n",
        "    all_predictions = all_predictions.astype(int)\n",
        "    #bal_acc = balanced_accuracy_severity(all_labels, all_predictions)\n",
        "    bal_acc = balanced_accuracy(all_labels, all_predictions)\n",
        "    if bal_acc > bal_acc_score:\n",
        "        bal_acc_score = bal_acc\n",
        "        type_of_prompt = strategy\n",
        "\n",
        "save_directory = \"/content/drive/My Drive/csv_zero_shot/\"\n",
        "csv_save_path = os.path.join(save_directory, \"dep_severity_test_original_qwen15.csv\")\n",
        "merged_df.to_csv(csv_save_path, index=False)\n",
        "\n",
        "data = {'Model': os.path.splitext(os.path.basename(csv_save_path))[0], 'bal_acc': bal_acc_score, 'Prompt': type_of_prompt}\n",
        "new_data_df = pd.DataFrame([data])\n",
        "\n",
        "bal_acc_csv_path = os.path.join(save_directory, \"prediction.csv\")\n",
        "if os.path.exists(bal_acc_csv_path):\n",
        "    df_bal_acc = pd.read_csv(bal_acc_csv_path)\n",
        "else:\n",
        "    df_bal_acc = pd.DataFrame(columns=['Model', 'bal_acc', 'Prompt'])\n",
        "df_bal_acc = pd.concat([df_bal_acc, new_data_df], ignore_index=True)\n",
        "df_bal_acc.to_csv(bal_acc_csv_path, index=False)\n",
        "\n",
        "print(\"Risultati salvati in:\", csv_save_path)\n"
      ]
    },
    {
      "cell_type": "markdown",
      "metadata": {
        "id": "WRE6-A6gc8ZN"
      },
      "source": [
        "#**Qwen2-1.5B-Instruct italian zero-shot**"
      ]
    },
    {
      "cell_type": "code",
      "execution_count": null,
      "metadata": {
        "id": "0Bb4Cmikc_pd"
      },
      "outputs": [],
      "source": [
        "from transformers import AutoModelForCausalLM, AutoTokenizer\n",
        "\n",
        "device = torch.device(\"cuda\" if torch.cuda.is_available() else \"cpu\")\n",
        "model_id = \"Qwen/Qwen2-1.5B-Instruct\"\n",
        "dtype = torch.bfloat16\n",
        "tokenizer = AutoTokenizer.from_pretrained(model_id)\n",
        "model = AutoModelForCausalLM.from_pretrained(model_id, torch_dtype=dtype).to(device)\n",
        "\n",
        "\n",
        "\n",
        "strategy_prompts = {\n",
        "    \"Basic\": \"\",\n",
        "    \"Context Enhancement\": \"Considera questo post presente sui social media per rispondere alla seguente domanda.\",\n",
        "    \"Mental Health Enhancement\": \"Come se fossi uno psicologo, leggi il post scritto su un social media e rispondi alla domanda.\",\n",
        "    \"Context & Mental Health Enhancement\": \"Questa persona ha scritto questo paragrafo su un social media. Come se fossi psicologo, considera la condizione di benessere mentale espressa in questo post, leggi il post scritto su un social media e rispondi alla domanda.\"\n",
        "}\n",
        "\n",
        "question_prompts = {\n",
        "    \"Dreaddit\": \"Lo scrittore di questo post risulta essere stressato? Rispondi solo con Sì o No.\"\n",
        "    #\"SDCNL\" :\"Lo scrittore di questo post vuole suicidarsi? Rispondi solo con Sì o No.\"\n",
        "    #\"DepSeverity\": \"Lo scrittore di questo post risulta essere depresso? Rispondi solo con Sì o No.\"\n",
        "    #\"DepSeverity Multiclass\":\"A che livello lo scrittore di questo post risulta essere depresso? Rispondi solo con un livello compreso tra 0, 1, 2, 3.\"\n",
        "}\n",
        "results=[]\n",
        "i=0\n",
        "# HERE TO CHANGE DF\n",
        "for index, row in dreaddit_test_google.iterrows():\n",
        "    text = row['text tradotto']\n",
        "\n",
        "    for strategy_name, strategy_prompt in strategy_prompts.items():\n",
        "        for question_name, question_prompt in question_prompts.items():\n",
        "            messages = [\n",
        "                        {\"role\": \"system\", \"content\": f\"{text} {strategy_prompt}\"},\n",
        "                        {\"role\": \"user\", \"content\": question_prompt}\n",
        "                      ]\n",
        "            text_tokenized = tokenizer.apply_chat_template(messages,tokenize=False,add_generation_prompt=True)\n",
        "            model_inputs = tokenizer([text_tokenized], return_tensors=\"pt\").to(device)\n",
        "            i+=1\n",
        "\n",
        "            with torch.no_grad():\n",
        "                outputs = model.generate(model_inputs.input_ids,max_new_tokens=512)\n",
        "                generated_text = [output_ids[len(input_ids):] for input_ids, output_ids in zip(model_inputs.input_ids, outputs)]\n",
        "                response = tokenizer.batch_decode(generated_text, skip_special_tokens=True)[0]\n",
        "                print('***********************************')\n",
        "                print(i)\n",
        "                print(response)\n",
        "\n",
        "            # Binary\n",
        "            first_word = response.split()[0].lower()\n",
        "            if \"yes\" in first_word or \"sì\" in first_word:\n",
        "                label = 1\n",
        "            elif \"no\" in first_word:\n",
        "                label = 0\n",
        "            else:\n",
        "                label = \"not found\"\n",
        "\n",
        "            # #Multiclass\n",
        "            # if \"1\" in response:\n",
        "            #     label = 1\n",
        "            # elif \"2\" in response:\n",
        "            #     label = 2\n",
        "            # elif \"3\" in response:\n",
        "            #     label = 3\n",
        "            # elif \"0\" in response:\n",
        "            #     label = 0\n",
        "            # else:\n",
        "            #     label = \"not found\"\n",
        "\n",
        "            print(label)\n",
        "\n",
        "            result_dict = {\n",
        "                'text': text,\n",
        "                'strategy': strategy_name,\n",
        "                'question': question_name,\n",
        "                'prompt': question_prompt,\n",
        "                'generated_text': response,\n",
        "                'result': label,\n",
        "            }\n",
        "            results.append(result_dict)\n",
        "\n",
        "results_df = pd.DataFrame(results)\n",
        "# HERE TO CHANGE DF\n",
        "merged_df = pd.merge(results_df, dreaddit_test_google, left_on=\"text\", right_on=\"text tradotto\", how=\"left\")\n",
        "\n",
        "not_found = merged_df[merged_df['result'] == 'not found']\n",
        "merged_df = merged_df[merged_df['result'] != 'not found']\n",
        "\n",
        "bal_acc_score = 0\n",
        "type_of_prompt = 'Basic'\n",
        "\n",
        "strategies = [\n",
        "    'Basic',\n",
        "    'Context Enhancement',\n",
        "    'Mental Health Enhancement',\n",
        "    'Context & Mental Health Enhancement'\n",
        "]\n",
        "\n",
        "for strategy in strategies:\n",
        "    df = merged_df[merged_df['strategy'] == strategy]\n",
        "    all_labels = df['label']\n",
        "    all_predictions = df['result']\n",
        "    all_labels = all_labels.astype(int)\n",
        "    all_predictions = all_predictions.astype(int)\n",
        "    #bal_acc = balanced_accuracy_severity(all_labels, all_predictions)\n",
        "    bal_acc = balanced_accuracy(all_labels, all_predictions)\n",
        "    if bal_acc > bal_acc_score:\n",
        "        bal_acc_score = bal_acc\n",
        "        type_of_prompt = strategy\n",
        "\n",
        "save_directory = \"/content/drive/My Drive/csv_zero_shot/\"\n",
        "csv_save_path = os.path.join(save_directory, \"dep_severity_test_google_qwen15.csv\")\n",
        "merged_df.to_csv(csv_save_path, index=False)\n",
        "\n",
        "data = {'Model': os.path.splitext(os.path.basename(csv_save_path))[0], 'bal_acc': bal_acc_score, 'Prompt': type_of_prompt}\n",
        "new_data_df = pd.DataFrame([data])\n",
        "\n",
        "bal_acc_csv_path = os.path.join(save_directory, \"prediction.csv\")\n",
        "if os.path.exists(bal_acc_csv_path):\n",
        "    df_bal_acc = pd.read_csv(bal_acc_csv_path)\n",
        "else:\n",
        "    df_bal_acc = pd.DataFrame(columns=['Model', 'bal_acc', 'Prompt'])\n",
        "df_bal_acc = pd.concat([df_bal_acc, new_data_df], ignore_index=True)\n",
        "df_bal_acc.to_csv(bal_acc_csv_path, index=False)\n",
        "\n",
        "print(\"Risultati salvati in:\", csv_save_path)\n"
      ]
    }
  ],
  "metadata": {
    "accelerator": "GPU",
    "colab": {
      "collapsed_sections": [
        "-SIIOiVWGIVd",
        "FrG2fUAdzK3b",
        "gkZM9YnmGNDR",
        "SkzyVqhKIX74",
        "LX9Qzx6KGumw",
        "eV3fQlCrGsYE",
        "C9N67olTBl7c",
        "b1VFBzLW5dd3",
        "dhugTrtwifHY",
        "iexy7u8sMdd_",
        "tOYdMpC_M521",
        "unwJxPaUf_ym",
        "l2JD02_XgVkZ",
        "BB8PwqM-gelW",
        "v1hFSnBDngq-",
        "doRY-au2ODH3",
        "S9X11VwK0Jd_",
        "wwqoT5LGhRqw",
        "cMRZCVUcQciF",
        "1gmoAVmvgWP4",
        "EanZj3h-0tUy",
        "ydWsagCTadtZ",
        "nR1u_E_VlhrB",
        "uoWB22F2RXFi",
        "BLr72UslX8oR",
        "wqxu2gFGdAoT"
      ],
      "gpuType": "T4",
      "provenance": []
    },
    "kernelspec": {
      "display_name": "Python 3",
      "name": "python3"
    },
    "language_info": {
      "name": "python"
    }
  },
  "nbformat": 4,
  "nbformat_minor": 0
}